{
 "cells": [
  {
   "cell_type": "code",
   "execution_count": 1,
   "metadata": {
    "collapsed": true,
    "deletable": true,
    "editable": true
   },
   "outputs": [],
   "source": [
    "%matplotlib notebook\n",
    "%matplotlib inline\n",
    "\n",
    "import matplotlib\n",
    "import numpy as np\n",
    "import matplotlib.pyplot as plt"
   ]
  },
  {
   "cell_type": "markdown",
   "metadata": {
    "deletable": true,
    "editable": true
   },
   "source": [
    "# Nuclear Power Economics\n",
    "\n",
    "The nuclear power industry both domestically and abroad, operates in a market influenced by governments.\n",
    "\n",
    "## Learning Objectives\n",
    "\n",
    "At the end of this lesson, you will be equipped to:\n",
    "\n",
    "- Differentiate the categories of market intervention relevant to electricity production\n",
    "- Recognize the importance of risk in the context of nuclear power economics\n",
    "- Explain the concept of externalities\n",
    "- Compare tax subsidies domestically among energy sources\n",
    "- Justify the logic behind government subsidies for promising emerging technologies\n",
    "- Discuss the impact of loan garuntees, liability limitation, and R&D support on nuclear power production"
   ]
  },
  {
   "cell_type": "markdown",
   "metadata": {
    "deletable": true,
    "editable": true
   },
   "source": [
    "# Market Interventions\n",
    "\n",
    "Market interventions exist worldwide and vary by government style. When comparing these, units really matter.\n",
    "\n",
    "![http://www.imf.org/external/pubs/ft/survey/so/2015/NEW070215A-B.jpg](http://www.imf.org/external/pubs/ft/survey/so/2015/NEW070215A-B.jpg)\n",
    "\n",
    "## Tax Subsidies\n",
    "The influence of tax subsidies : \n",
    "![https://www.cbo.gov/sites/default/files/cbofiles/images/pubs-images/50xxx/50980-land-figure1_0.png](https://www.cbo.gov/sites/default/files/cbofiles/images/pubs-images/50xxx/50980-land-figure1_0.png)\n",
    "\n",
    "Strongly effects new builds:\n",
    "![https://www.eia.gov/analysis/requests/subsidy/images/figes1.jpg](https://www.eia.gov/analysis/requests/subsidy/images/figes1.jpg)\n",
    "\n",
    "----\n",
    "### Discussion Question: Why would governments provide subsidies for oil and gas?\n",
    "\n",
    "\n",
    "### Discussion Question: If presented in other units (like $\\frac{\\$}{kWh}$), how would this graph change?\n",
    "\n",
    "----\n",
    "\n",
    "Market intrventions aren't limited to tax subsidies, however:\n",
    "\n",
    "![http://www.eia.gov/todayinenergy/images/2015.03.13/chart2.png](http://www.eia.gov/todayinenergy/images/2015.03.13/chart2.png)\n",
    "Source: EIA, [Direct Federal Financial Interventions and Subsidies in Energy in Fiscal Year 2013](http://www.eia.gov/analysis/requests/subsidy/)\n",
    "Note: RUS is the U.S. Department of Agriculture's Rural Utilities Service.\n",
    "\n",
    "**Note the fraction devoted to loan garuntees! As we consider loans next class, this will be something to keep in mind.**"
   ]
  },
  {
   "cell_type": "markdown",
   "metadata": {
    "deletable": true,
    "editable": true
   },
   "source": [
    "## Liability Limitation\n",
    "\n",
    "The Price Anderson Act limits the liability of a nuclear plant operator by creating a collective 'no-fault' insurance fund supported in large part by contributions by the utilities that it covers, but beyond a certain limit, covered by the US government. \n",
    "\n",
    "Groups impacted by nuclear incidents can sue Price Anderson for settlement (e.g. [http://www.colorado.edu/law/sites/default/files/Speckhals%20House%20Is%20Not%20Thyroid%2025.1.pdf](http://www.colorado.edu/law/sites/default/files/Speckhals%20House%20Is%20Not%20Thyroid%2025.1.pdf).)\n",
    "\n",
    "This special insurance was neccesary to provide a structure for companies to take on the very small likelihood, large consequences risk of nuclear operation. \n",
    "\n",
    "![http://2.bp.blogspot.com/-eAu3qdV-MRY/Tas3zsQqbsI/AAAAAAAAAhc/tXtb6J421to/s1600/risk%2Bmatrix.png](http://2.bp.blogspot.com/-eAu3qdV-MRY/Tas3zsQqbsI/AAAAAAAAAhc/tXtb6J421to/s1600/risk%2Bmatrix.png)"
   ]
  },
  {
   "cell_type": "markdown",
   "metadata": {
    "deletable": true,
    "editable": true
   },
   "source": [
    "## Regulation\n",
    "\n",
    "### FERC\n",
    "The Federal Electricity Regulatory Commission oversees regional transmission organizations (interstate infrastructure) and independent service organizations (wholesale power). It is intended to keep utilities from discriminating between \\_\\_\\_\\_\\_\\_\\_ and \\_\\_\\_\\_\\_\\_\\_ . To change the rates on consumers, utilities must petition and win approval from appropriate regulators. Profits are returned to companies based on their investment.\n",
    " \n",
    "\n",
    "### PURPA, EPA 92, etc. \n",
    "\n",
    "\n",
    "\n",
    "\n",
    "## RTOs, ISOs, and Ducks.\n",
    "\n",
    "Regional transmition organizations and independent service organizations provide regional oversight of the competition among generators, availability of supply, transmission scheduling, and operations of the grid :\n",
    "\n",
    "![http://www.eia.gov/todayinenergy/images/2011.04.04/rto_map_p2.png](http://www.eia.gov/todayinenergy/images/2011.04.04/rto_map_p2.png)\n",
    "\n",
    "![http://www.eia.gov/beta/realtime_grid/img/Figure1Map.jpg](http://www.eia.gov/beta/realtime_grid/img/Figure1Map.jpg)\n",
    "\n",
    "\n",
    "Through their RTOs and ISOs, suppliers bid for the opportunity to generate power the next day.\n",
    "\n",
    "**A simple model:**\n",
    "![http://image.slidesharecdn.com/thenuancesofelectricity-130308080854-phpapp02/95/the-nuances-of-hedging-electric-portfolio-risks-11-638.jpg?cb=1362730429](http://image.slidesharecdn.com/thenuancesofelectricity-130308080854-phpapp02/95/the-nuances-of-hedging-electric-portfolio-risks-11-638.jpg?cb=1362730429)\n",
    "\n",
    "**A realistic model:**\n",
    "![https://www.sec.gov/Archives/edgar/data/81033/000119312511047330/g122526g72y78.jpg](https://www.sec.gov/Archives/edgar/data/81033/000119312511047330/g122526g72y78.jpg)\n",
    "\n",
    "\n",
    "Fun fact, EIA allows the public to see [real-time information about the grid.](http://www.eia.gov/beta/realtime_grid/#/summary/demand?end=20160826&start=20160726)\n",
    "\n",
    "A similar system exists in Europe.\n",
    "\n",
    "![http://eur-lex.europa.eu/resource.html?uri=comnat:SWD_2015_0142_FIN.ENG.xhtml.03028.jpg](http://eur-lex.europa.eu/resource.html?uri=comnat:SWD_2015_0142_FIN.ENG.xhtml.03028.jpg)\n",
    "\n",
    "\n",
    "One concern with mixed energy generation is the so-called duck curve, created by the California ISO, which predicts increasing need for load-following energy sources.\n",
    "\n",
    "![http://dqbasmyouzti2.cloudfront.net/content/images/articles/4CAISO03-16-2014.jpg](http://dqbasmyouzti2.cloudfront.net/content/images/articles/4CAISO03-16-2014.jpg)\n",
    "\n",
    "It's appeared in many different grids. Here's a rough day in New England. \n",
    "![https://mk0qaxewenuu33xx1t5t.kinstacdn.com/wp-content/uploads/2018/05/ISO-New-England-duck-curves.png](https://mk0qaxewenuu33xx1t5t.kinstacdn.com/wp-content/uploads/2018/05/ISO-New-England-duck-curves.png)\n",
    "\n",
    "\n",
    "### NRC & EPA\n",
    "\n",
    "NRC regulates nuclear activities, builds, etc. to ensure the safety and security of nuclear power production. The EPA also oversees nuclear, along with its oversight of all other industries. \n"
   ]
  },
  {
   "cell_type": "markdown",
   "metadata": {
    "deletable": true,
    "editable": true
   },
   "source": [
    "## Innovation and Market Penetration\n",
    "\n",
    "What does this graph say to you about the impact of R&D support on market competitiveness of photovoltaics?\n",
    "\n",
    "![https://upload.wikimedia.org/wikipedia/commons/3/35/Best_Research-Cell_Efficiencies.png](https://upload.wikimedia.org/wikipedia/commons/3/35/Best_Research-Cell_Efficiencies.png)"
   ]
  },
  {
   "cell_type": "markdown",
   "metadata": {
    "deletable": true,
    "editable": true
   },
   "source": [
    "## Externalities\n",
    "From google: \n",
    "> a side effect or consequence of an industrial or commercial activity that affects other parties without this being reflected in the cost of the goods or services involved, such as the pollination of surrounding crops by bees kept for honey.\n",
    "\n",
    "\n",
    "From the European Commission's ExternE group:\n",
    "\n",
    "> An external cost, also known as an externality, arises when the social or economic activities of one group of persons have an impact on another group and when that impact is not fully accounted, or compensated for, by the first group.\n",
    "\n",
    "\n",
    "### Discussion: Name some externalities in the energy industry."
   ]
  },
  {
   "cell_type": "code",
   "execution_count": 5,
   "metadata": {
    "collapsed": false,
    "deletable": true,
    "editable": true
   },
   "outputs": [
    {
     "data": {
      "text/html": [
       "\n",
       "        <iframe\n",
       "            width=\"1000\"\n",
       "            height=\"700\"\n",
       "            src=\"https://embed.polleverywhere.com/free_text_polls/MnI4Nm629dTOUWS?controls=none&short_poll=true?frameBorder=0\"\n",
       "            frameborder=\"0\"\n",
       "            allowfullscreen\n",
       "        ></iframe>\n",
       "        "
      ],
      "text/plain": [
       "<IPython.lib.display.IFrame at 0x10b255b00>"
      ]
     },
     "execution_count": 5,
     "metadata": {},
     "output_type": "execute_result"
    }
   ],
   "source": [
    "from IPython.display import IFrame\n",
    "IFrame(\"https://embed.polleverywhere.com/free_text_polls/MnI4Nm629dTOUWS?controls=none&short_poll=true\", width=\"1000\", height=\"700\", frameBorder=\"0\")"
   ]
  },
  {
   "cell_type": "markdown",
   "metadata": {
    "deletable": true,
    "editable": true
   },
   "source": [
    "## Internalizing Externalities\n",
    "The logic behind these market interventions is often to internalize externalities. Though the interventions are often implemented in a piecemeal way, an accross-the-board internalization of externalities.\n",
    "\n",
    "- $SMC$ = Social Marginal Cost (total cost to society) \n",
    "- $PMC$ = Private Marginal Cost (cost to individual) \n",
    "- $PMB$ = Private Marginal Benefit (benefit to individual)\n",
    "- $SMB$ = Social Marginal Benefit (benefit to society)\n",
    "- $Q_i$ = Quantity of product produced with supply curve i\n",
    "- $S_i$ = Supply curve i\n",
    "- $P_i$ = Price i\n",
    "\n",
    "\n",
    "Assume a power producer is emmitting carbon. The government would need to estimate the social marginal cost ($SMC$) of this activity and would need to impose a tax on the power producer accordingly (equal to the marginal external cost). Thus, the polluter pays. The supply curve, $S_i$, would then shift, increasing the market price $P_i$. The levelof production, $Q_i$ would then fall to a point where P becomes equal to the SMC. There are other ways to model this, such as a damage focused model rather than a price focused model. More on this can be found [at the resource here](http://www.macmillanlearning.com/Catalog/WorkArea/DownloadAsset.aspx?id=4037) from which the following diagram comes :\n",
    "\n",
    "![./externalities_macmillan.png](./externalities_macmillan.png)"
   ]
  },
  {
   "cell_type": "code",
   "execution_count": 9,
   "metadata": {
    "collapsed": false,
    "deletable": true,
    "editable": true
   },
   "outputs": [
    {
     "data": {
      "image/png": "[encoded data removed]",
      "text/plain": [
       "<matplotlib.figure.Figure at 0x10e358eb8>"
      ]
     },
     "metadata": {},
     "output_type": "display_data"
    }
   ],
   "source": [
    "smc = 2\n",
    "price_factor = 5\n",
    "\n",
    "def p(i):\n",
    "    return  price_factor*q(i)\n",
    "\n",
    "def p_tax(i):\n",
    "    return p(i) + smc\n",
    "\n",
    "def q(i):\n",
    "    return i\n",
    "\n",
    "def q_tax(i):\n",
    "    return i\n",
    "\n",
    "def s(i):\n",
    "    return q(i)\n",
    "\n",
    "\n",
    "import numpy as np\n",
    "x=np.arange(0,101)\n",
    "x_tax=np.arange(0,101)\n",
    "y=np.arange(0,101)\n",
    "y_tax=np.arange(0,101)\n",
    "\n",
    "for i in range(1, 101):\n",
    "    x[i]=q(i)\n",
    "    x_tax[i]=q_tax(i)\n",
    "    y[i]=p(i)\n",
    "    y_tax[i]=p_tax(i)\n",
    "\n",
    "\n",
    "plt.clf()\n",
    "plt.scatter(x_tax,y_tax,color='k')\n",
    "plt.scatter(x,y,color='g')\n",
    "plt.xlabel('quantity')\n",
    "plt.ylabel('price')\n",
    "plt.title('Carbon Tax')\n",
    "plt.show()"
   ]
  },
  {
   "cell_type": "markdown",
   "metadata": {
    "collapsed": true,
    "deletable": true,
    "editable": true
   },
   "source": [
    "## Key Lessons\n",
    "\n",
    "We have covered the following key concepts in this notebook:\n",
    "\n",
    "- Market interventions include regulation, loan support, liability limitation, tax subsidies, R&D support, etc.\n",
    "- Without interventions, market penetration for new technologies can often be insurmountable\n",
    "- Nuclear power benefits less from tax subsidies than some other sources of energy\n",
    "- However, governments invest heavily in nuclear through other means\n",
    "- Loan garuntees in nuclear power construction projects reduce the risk incurred by utilities\n",
    "- The Price Anderson act limits the liabilities of nuclear utilities in the event of a catastrophic accident\n",
    "- Comparisons among market interventions must be sensitive to units ( $\\$$, $\\frac{\\$}{kWh}$, $\\frac{\\$}{lb_{CO_2}}$, ...)\n",
    "- Externalities are external impacts not reflected in the price of a commodity\n"
   ]
  }
 ],
 "metadata": {
  "anaconda-cloud": {},
  "kernelspec": {
   "display_name": "Python 3",
   "language": "python",
   "name": "python3"
  },
  "language_info": {
   "codemirror_mode": {
    "name": "ipython",
    "version": 3
   },
   "file_extension": ".py",
   "mimetype": "text/x-python",
   "name": "python",
   "nbconvert_exporter": "python",
   "pygments_lexer": "ipython3",
   "version": "3.5.2"
  }
 },
 "nbformat": 4,
 "nbformat_minor": 0
}
