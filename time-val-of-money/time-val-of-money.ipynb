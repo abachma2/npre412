{
 "cells": [
  {
   "cell_type": "code",
   "execution_count": 3,
   "metadata": {
    "collapsed": true,
    "deletable": true,
    "editable": true
   },
   "outputs": [],
   "source": [
    "%matplotlib inline\n",
    "\n",
    "import matplotlib\n",
    "import numpy as np\n",
    "import matplotlib.pyplot as plt\n",
    "\n",
    "plt.rcParams[\"figure.figsize\"] = (12, 9)\n",
    "\n",
    "font = {'family' : 'normal',\n",
    "        'weight' : 'normal',\n",
    "        'size'   : 20}\n",
    "\n",
    "matplotlib.rc('font', **font)\n"
   ]
  },
  {
   "cell_type": "markdown",
   "metadata": {
    "deletable": true,
    "editable": true
   },
   "source": [
    "\n",
    "\n",
    "## Learning Objectives\n",
    "\n",
    "At the end of this lesson, you will be equipped to:\n",
    "\n",
    "- Recognize the relationship between time and money \n",
    "- Explain discounting, interest, and growth of money\n",
    "- Calculate present and future values of money, annuities, and bonds\n",
    "- Apply these calculations to appropriate situations\n",
    "\n",
    "\n",
    "## Notation\n",
    "\n",
    "In mathematically describing the time value of money, we'll use the following notation.\n",
    "\n",
    "\\begin{align}\n",
    "P&=\\mbox{present value } (\\$)\\\\\n",
    "F&=\\mbox{future value } (\\$)\\\\\n",
    "N&=\\mbox{number of periods of investment } (\\mbox{period})\\\\\n",
    "i&=\\mbox{interest rate per period } (\\mbox{period}^{-1})\n",
    "\\end{align}\n"
   ]
  },
  {
   "cell_type": "markdown",
   "metadata": {
    "deletable": true,
    "editable": true
   },
   "source": [
    "# Time Value of Money\n",
    "\n",
    "The **time value of money** means that a person places a higher value on a dollar in one point in time than on the same dollar at a different (usually later) point in time.\n",
    "\n",
    "- Are you willing to give me $\\$100$ today if I give you $\\$100$ in one year? \n",
    "- Why or why not? \n",
    "\n",
    "\n",
    "![https://upload.wikimedia.org/wikipedia/commons/thumb/f/f8/Question_mark_alternate.svg/369px-Question_mark_alternate.svg.png](https://upload.wikimedia.org/wikipedia/commons/thumb/f/f8/Question_mark_alternate.svg/369px-Question_mark_alternate.svg.png)"
   ]
  },
  {
   "cell_type": "markdown",
   "metadata": {
    "deletable": true,
    "editable": true
   },
   "source": [
    "\n",
    "- **Risk:** Can you trust that you will get the $\\$100$ back?\n",
    "- **Availability of Capital:** What if you don’t have the $\\$100$ to give me?"
   ]
  },
  {
   "cell_type": "markdown",
   "metadata": {
    "deletable": true,
    "editable": true
   },
   "source": [
    "\n",
    "## Growth With Simple Interest\n",
    "\n",
    "In the simplest case, the future value of money grows linearly with the number of periods invested.\n",
    "\n",
    "$$F=P(1+iN)$$"
   ]
  },
  {
   "cell_type": "markdown",
   "metadata": {
    "deletable": true,
    "editable": true
   },
   "source": [
    "Let's create a python function that calculates this. It will accept 3 variables as inputs, $P$, $i$, and $N$. It will return a single value, $F_{simple}$, the future value in the case of simple interest."
   ]
  },
  {
   "cell_type": "code",
   "execution_count": 4,
   "metadata": {
    "collapsed": true,
    "deletable": true,
    "editable": true
   },
   "outputs": [],
   "source": [
    "def F_simple(P, i, N):\n",
    "    '''Growth with simple interest'''\n",
    "    return P*(1+i*N)"
   ]
  },
  {
   "cell_type": "code",
   "execution_count": 5,
   "metadata": {
    "collapsed": false,
    "deletable": true,
    "editable": true
   },
   "outputs": [],
   "source": [
    "# example\n",
    "P=100  # You give me $100\n",
    "i=0.03 # at 10 percent interest per period\n",
    "N=10   # it takes me 10 periods to pay it back"
   ]
  },
  {
   "cell_type": "code",
   "execution_count": 6,
   "metadata": {
    "collapsed": false,
    "deletable": true,
    "editable": true,
    "scrolled": true
   },
   "outputs": [
    {
     "name": "stdout",
     "output_type": "stream",
     "text": [
      "You give me $100 today, but after 10 years at an interest rate of 0.03, I will owe you:\n",
      "130.0\n"
     ]
    }
   ],
   "source": [
    "print(\"You give me $\"+str(P)+\" today, but after \" + str(N) +\n",
    "      \" years at an interest rate of \" + str(i) + \", I will owe you:\")\n",
    "print(F_simple(P, i, N))"
   ]
  },
  {
   "cell_type": "markdown",
   "metadata": {
    "deletable": true,
    "editable": true
   },
   "source": [
    "### Question: What kind of function is the simple growth equation?\n",
    "\n",
    "Recall the equation for F(P, i, N) above. With this simple interest growth type, the future value (the amount owed, in this case) is what kind of function of time (N)?\n",
    "\n",
    "- linear\n",
    "- quadratic\n",
    "- logrithmic\n",
    "- exponential"
   ]
  },
  {
   "cell_type": "code",
   "execution_count": 7,
   "metadata": {
    "collapsed": false,
    "deletable": true,
    "editable": true
   },
   "outputs": [
    {
     "name": "stderr",
     "output_type": "stream",
     "text": [
      "/Users/khuff/anaconda/lib/python3.5/site-packages/matplotlib/font_manager.py:1288: UserWarning: findfont: Font family ['normal'] not found. Falling back to Bitstream Vera Sans\n",
      "  (prop.get_family(), self.defaultFamily[fontext]))\n"
     ]
    },
    {
     "data": {
      "image/png": "[encoded data removed]",
      "text/plain": [
       "<matplotlib.figure.Figure at 0x11795b898>"
      ]
     },
     "metadata": {},
     "output_type": "display_data"
    }
   ],
   "source": [
    "# The magic below shows the plot interactively when it's created\n",
    "# we need the numerical python library\n",
    "import numpy as np\n",
    "# we'll use matplotlib to plot the function\n",
    "import matplotlib \n",
    "# we'll call the useful parts of matplotlib \"plt\"\n",
    "import matplotlib.pyplot as plt\n",
    "# time is an array of values between 0 and 100 years in increments of 1 year\n",
    "time = np.arange(0, 101, 1)\n",
    "# label the x axis\n",
    "plt.xlabel('Time (y)') \n",
    "# label the y axis\n",
    "plt.ylabel('Amount Owed ($)') \n",
    "# title the plot\n",
    "title = \"Amount Owed Over Time on $\" + str(P) + \" at \" + str(i*100) + \"% Interest\"\n",
    "plt.title(title)\n",
    "# attach a data series to the plot. Use blue dots with lines.\n",
    "plt.plot(time, F_simple(P,i,time), 'bo-', label=\"simple\") \n",
    "# create a legend and put it in the top left\n",
    "plt.legend(loc=2) \n",
    "# Display the plot (not actually necessary with %matplotlib notebook, but needed in scripts)\n",
    "plt.show()"
   ]
  },
  {
   "cell_type": "markdown",
   "metadata": {
    "deletable": true,
    "editable": true
   },
   "source": [
    "### Question: What if the interest rate were doubled?\n",
    "\n",
    "After 10 years at 10% interest, I would pay you \\$200 to make us square. Within this amount, I am paying \\$100 to return the original prinicipal. The other \\$100 is pure interest.\n",
    "\n",
    "If the interest rate were doubled (20%), how much _interest_ would I pay you in 10 years?"
   ]
  },
  {
   "cell_type": "code",
   "execution_count": 8,
   "metadata": {
    "collapsed": false,
    "deletable": true,
    "editable": true
   },
   "outputs": [
    {
     "data": {
      "image/png": "[encoded data removed]",
      "text/plain": [
       "<matplotlib.figure.Figure at 0x11798cb00>"
      ]
     },
     "metadata": {},
     "output_type": "display_data"
    }
   ],
   "source": [
    "time = np.arange(0, 11, 1) # plot time between 0 and 10 years in increments of 1 year\n",
    "rates = np.arange(0.0, 0.11, 0.01) # plot interest rates between 0 and 10% in increments of 1%\n",
    "plt.xlabel('Interest Rate')\n",
    "plt.ylabel('How Much I Owe ($)')\n",
    "title = 'Amount Owed (P=$' + str(P) + ')' \n",
    "plt.title(title)\n",
    "for rate in rates:\n",
    "    plt.plot(time, F_simple(P,rate,time), label=rate)\n",
    "plt.legend(loc=2)\n",
    "plt.show()"
   ]
  },
  {
   "cell_type": "markdown",
   "metadata": {
    "deletable": true,
    "editable": true
   },
   "source": [
    "## Growth With Compounding Interest\n",
    "\n",
    "In a compounding interest scenario, the future value of money is _compounded_ at each period. That is, after each period (e.g. each year) the total amount owed is note and then interest is applied to that amount. After the first period, the borrower is racking up additional interest on the interest that they owe. The equation is like this:\n",
    "\n",
    "$$F=P(1+i)^N$$\n",
    "\n",
    "\n",
    "### Question: What kind of equation is the compounding interest equation?\n",
    "For the compounding interest form of F(P, i, N) in the equation above, what kind of relationship does the future value of money (F) have with time (N):\n",
    "\n",
    "- quadratic\n",
    "- linear\n",
    "- logarithmic\n",
    "- exponential\n"
   ]
  },
  {
   "cell_type": "code",
   "execution_count": 9,
   "metadata": {
    "collapsed": true,
    "deletable": true,
    "editable": true
   },
   "outputs": [],
   "source": [
    "def F_compound(P, i, N):\n",
    "    '''Growth with compounding interest'''\n",
    "    return P*pow((1+i),N)"
   ]
  },
  {
   "cell_type": "code",
   "execution_count": 10,
   "metadata": {
    "collapsed": false,
    "deletable": true,
    "editable": true
   },
   "outputs": [
    {
     "name": "stdout",
     "output_type": "stream",
     "text": [
      "You give me $100 today, but after 10 years at an interest rate of 0.04, I will owe you:\n",
      "148.02442849183444\n"
     ]
    }
   ],
   "source": [
    "i = 0.04\n",
    "print(\"You give me $\"+str(P)+\" today, but after \" + str(N) +\n",
    "      \" years at an interest rate of \" + str(i) + \", I will owe you:\")\n",
    "print(F_compound(P, i, N))"
   ]
  },
  {
   "cell_type": "code",
   "execution_count": 11,
   "metadata": {
    "collapsed": false,
    "deletable": true,
    "editable": true
   },
   "outputs": [
    {
     "data": {
      "image/png": "[encoded data removed]",
      "text/plain": [
       "<matplotlib.figure.Figure at 0x117975940>"
      ]
     },
     "metadata": {},
     "output_type": "display_data"
    }
   ],
   "source": [
    "# Plot it as a function of interest rate\n",
    "plt.clf()\n",
    "time = np.arange(0, 11, 1) \n",
    "plt.xlabel('Time')\n",
    "plt.ylabel('Amount Owed ($)')\n",
    "plt.title('Amount Owed Over Time')\n",
    "plt.plot(time, F_simple(P,i,time), 'bo-', label=\"simple\")\n",
    "plt.plot(time, F_compound(P,i,time), 'go-', label=\"compound\")\n",
    "plt.legend(loc=2)\n",
    "plt.show()"
   ]
  },
  {
   "cell_type": "code",
   "execution_count": 12,
   "metadata": {
    "collapsed": false,
    "deletable": true,
    "editable": true
   },
   "outputs": [
    {
     "data": {
      "image/png": "[encoded data removed]",
      "text/plain": [
       "<matplotlib.figure.Figure at 0x11a03ebe0>"
      ]
     },
     "metadata": {},
     "output_type": "display_data"
    }
   ],
   "source": [
    "# Plot it for different interest rates\n",
    "\n",
    "import itertools\n",
    "marker = itertools.cycle((',', '+', '.', 'o', '*')) \n",
    "line = itertools.cycle(('dashed', 'solid')) \n",
    "plt.clf()\n",
    "time = np.arange(0, 11, 1) \n",
    "rates = np.arange(0.0, 0.11, 0.01) \n",
    "plt.xlabel('Time (y)')\n",
    "plt.ylabel('How Much I Owe ($)')\n",
    "plt.title('Compound Interest Amount Owed Over Time')\n",
    "for rate in rates:\n",
    "    plt.plot(time, F_compound(P,rate,time), label=rate, marker=next(marker), linestyle=next(line))\n",
    "plt.legend(loc=2)\n",
    "plt.show()"
   ]
  },
  {
   "cell_type": "markdown",
   "metadata": {
    "deletable": true,
    "editable": true
   },
   "source": [
    "## Discounting\n",
    "\n",
    "Our examples have shown the growth in an investment due to interest earned. \n",
    "Compounding is a way to move money from the present to the future. \n",
    "What about going the other way in time, that is, **what is the value of the \n",
    "promise of some future amount worth today?** The answer is provided by the \n",
    "_inverse_ of compounding, **discounting**.\n",
    "\n",
    "$$F=\\mbox{Future value}$$\n",
    "$$P=\\mbox{Present value}$$\n",
    "$$N=\\mbox{Number of periods}$$\n",
    "$$i=\\mbox{Investment rate per period}$$\n",
    "\n",
    "Recall that F, as a function of P, is :\n",
    "\n",
    "$$F = P(1+i)^N$$\n",
    "\n",
    "Solving this for P, as a function of F, we get:\n",
    "\n",
    "$$P = \\frac{F}{(1+i)^N}$$\n"
   ]
  },
  {
   "cell_type": "code",
   "execution_count": 13,
   "metadata": {
    "collapsed": true,
    "deletable": true,
    "editable": true
   },
   "outputs": [],
   "source": [
    "def P_compound(F, i, N):\n",
    "    \"\"\"The present value, as a function of future value, for compounding interest\"\"\"\n",
    "    return F/pow((1+i),N)"
   ]
  },
  {
   "cell_type": "code",
   "execution_count": 14,
   "metadata": {
    "collapsed": false,
    "deletable": true,
    "editable": true
   },
   "outputs": [
    {
     "name": "stdout",
     "output_type": "stream",
     "text": [
      "If you invest 96.15384615384615 today at an investment rate of 4.0%, it will be worth $100 in 1 years.\n"
     ]
    }
   ],
   "source": [
    "# example\n",
    "F=100  # I promise you $100\n",
    "i=0.04 # at 10 percent investment per period\n",
    "N=1   # but you have to wait 10 periods before I give it to you\n",
    "\n",
    "print(\"If you invest \" + \n",
    "      str(P_compound(F, i, N)) + \" today at an investment rate of \" + str(i*100) +\n",
    "      \"%, it will be worth $\" + str(F) +\n",
    "      \" in \" + str(N) + \" years.\")\n"
   ]
  },
  {
   "cell_type": "code",
   "execution_count": 15,
   "metadata": {
    "collapsed": false,
    "deletable": true,
    "editable": true
   },
   "outputs": [
    {
     "name": "stdout",
     "output_type": "stream",
     "text": [
      "10.0  =  10\n",
      "100.0  =  100\n",
      "1000.0  =  1000\n"
     ]
    }
   ],
   "source": [
    "# Exercise... Show that P_compound is truly the inverse of F_compound\n",
    "i = 0.1\n",
    "N = 10\n",
    "test_values = [10, 100, 1000]\n",
    "\n",
    "for f_test in test_values:\n",
    "    P = P_compound(f_test,i,N)\n",
    "    obs = F_compound(P, i, N)\n",
    "    assert(obs == f_test)\n",
    "    print(obs,\" = \",f_test)"
   ]
  },
  {
   "cell_type": "markdown",
   "metadata": {
    "deletable": true,
    "editable": true
   },
   "source": [
    "# Inflation\n",
    "\n",
    "Inflation is the tendency for prices to continuously rise. Conversely, it is the continuous fall in the value of currency (like the dollar).\n",
    "\n",
    "**Example:** What has happened to the value of the dollar since you entered college (4 yrs)? To answer this, we need inflation rates for 2013‐2016:\n",
    "\n",
    " - 2013: 1.5%\n",
    " - 2014: 1.6%\n",
    " - 2015: 0.1% \n",
    " - 2016: 1.0%\n",
    " \n",
    "$$F = \\mbox{buying power today}$$\n",
    "$$P = \\mbox{one dollar in your first year of college}$$\n",
    "$$i_n = \\mbox{inflation rate in year n.}$$\n",
    "$$F_{n} = P_n(1 +i_{n})$$\n",
    "$$F_{n} = P_{n+1}$$\n",
    "\n",
    "$$F_{2016} = P_{2016}(1 + i_{2016})$$\n",
    "$$F_{2015} = P_{2015}(1 + i_{2015})$$\n",
    "$$F_{2014} = P_{2014}(1 + i_{2014})$$\n",
    "$$F_{2013} = P_{2013}(1 + i_{2013})$$\n",
    "\n",
    "Combined:\n",
    "\n",
    "$$F_{2016} = P_{2013}(1 + i_{2013})(1 + i_{2014})(1 + i_{2015})(1 + i_{2016})$$\n"
   ]
  },
  {
   "cell_type": "code",
   "execution_count": 16,
   "metadata": {
    "collapsed": false,
    "deletable": true,
    "editable": true
   },
   "outputs": [
    {
     "name": "stdout",
     "output_type": "stream",
     "text": [
      "1.0425939523999999\n"
     ]
    }
   ],
   "source": [
    "def F_infl(P, infl):\n",
    "    \"\"\"The future value of money, due to one year of inflation at rate infl\"\"\"\n",
    "    return P*(1+infl)\n",
    "\n",
    "import collections\n",
    "year_infl = collections.OrderedDict()\n",
    "#year_infl[2011] = 0.03\n",
    "#year_infl[2012] = 0.017\n",
    "year_infl[2013] = 0.015\n",
    "year_infl[2014] = 0.016\n",
    "year_infl[2015] = 0.001\n",
    "year_infl[2016] = 0.01\n",
    "\n",
    "P = {2013:1}\n",
    "F = {}\n",
    "for year, infl in year_infl.items():\n",
    "    P[year+1] = F_infl(P[year], infl)\n",
    "    F[year] = P[year+1]\n",
    "    \n",
    "print(F[2016])\n",
    "    "
   ]
  },
  {
   "cell_type": "markdown",
   "metadata": {
    "deletable": true,
    "editable": true
   },
   "source": [
    "### Inflation adjusted interest rate\n",
    "\n",
    "To adjust your interest rate for the existence of inflation, \n",
    "\n",
    "$$i^* = \\frac{(1+i)}{(1+r)} - 1$$\n",
    "$$i^* = \\mbox{interest rate adjusted for inflation}$$\n",
    "$$r = \\mbox{rate of inflation}$$\n",
    "$$i = \\mbox{nominal interest rate}$$\n"
   ]
  },
  {
   "cell_type": "markdown",
   "metadata": {
    "deletable": true,
    "editable": true
   },
   "source": [
    "## MARR – minimum acceptable rate of return\n",
    "\n",
    "- You know F and N and are asking for a value of P. But what is the value of i? As an investor you must specify the rate of return that you require.\n",
    "- We call the interest rate in the computation the minimal acceptable rate of return, MARR\n",
    "\n",
    "MARR depends on many things; how much capital is available, how much is needed, etc.\n",
    "- For an individual, it should be at least what could be earned elsewhere.\n",
    "- For someone with debt, it should be at least the interest charged by the lender.\n",
    "\n",
    "Let’s say you are a student with a credit card debt charging 1.5% per month on the outstanding balance. That is roughly 18% per year. Your friend Feynman wants to borrow some money. Feynman will give you $100 in one year. How much should you be willing to loan him?"
   ]
  },
  {
   "cell_type": "code",
   "execution_count": 17,
   "metadata": {
    "collapsed": false,
    "deletable": true,
    "editable": true
   },
   "outputs": [
    {
     "name": "stdout",
     "output_type": "stream",
     "text": [
      "84.74576271186442\n"
     ]
    }
   ],
   "source": [
    "F=100\n",
    "N=1\n",
    "i = 0.18\n",
    "P = P_compound(F, i, N)\n",
    "print(P)"
   ]
  },
  {
   "cell_type": "markdown",
   "metadata": {
    "deletable": true,
    "editable": true
   },
   "source": [
    "If your MARR is greater than 18%, the amount you should be willing to give should be less than P. If your MARR is less Than 18%, you could give more."
   ]
  },
  {
   "cell_type": "markdown",
   "metadata": {
    "deletable": true,
    "editable": true
   },
   "source": [
    "### Exercise: Formulate an equation for $i_{MARR}$\n",
    "To get $i_{MARR}$ as a function of P and F, you must solve $F_{compound}$ for i.\n",
    "\n",
    "\n",
    "In the following markdown cell, replace the question marks with the appropriate symbols:\n"
   ]
  },
  {
   "cell_type": "markdown",
   "metadata": {
    "deletable": true,
    "editable": true
   },
   "source": [
    "$$i_{MARR} = \\left(\\frac{F}{P}\\right)^\\frac{1}{n}-1$$"
   ]
  },
  {
   "cell_type": "markdown",
   "metadata": {
    "deletable": true,
    "editable": true
   },
   "source": [
    "### Excercise: Write the $i_{MARR}$ equation as a python function\n",
    "\n",
    "In the following python cell, we have filled in the function:"
   ]
  },
  {
   "cell_type": "code",
   "execution_count": 18,
   "metadata": {
    "collapsed": true,
    "deletable": true,
    "editable": true
   },
   "outputs": [],
   "source": [
    "def i_MARR(F, P, N):\n",
    "    \"\"\"The $i_{MARR}$ as a function of future value, present value, \n",
    "    and period, for compounding interest\n",
    "    \"\"\"\n",
    "    return pow(F/P, 1/N) - 1 "
   ]
  },
  {
   "cell_type": "code",
   "execution_count": 19,
   "metadata": {
    "collapsed": false,
    "deletable": true,
    "editable": true
   },
   "outputs": [
    {
     "name": "stdout",
     "output_type": "stream",
     "text": [
      "0.018769265121506118\n"
     ]
    }
   ],
   "source": [
    "F = 100\n",
    "P = 80\n",
    "N = 12\n",
    "print(i_MARR(F,P,N))"
   ]
  },
  {
   "cell_type": "markdown",
   "metadata": {
    "deletable": true,
    "editable": true
   },
   "source": [
    "## What about borrowing money?\n",
    "\n",
    "Sometimes, the rate at which we make payments is different than the period over which the rate is quoted and compounded. For a car loan, for example, the compounding period is annual, but you make monthly payments for some $m$ months.\n",
    "\n",
    "$$F = \\frac{m}{12}\\left(\\frac{Pi}{1-(1+i/12)^{-m}}\\right)$$\n"
   ]
  },
  {
   "cell_type": "code",
   "execution_count": 20,
   "metadata": {
    "collapsed": true,
    "deletable": true,
    "editable": true
   },
   "outputs": [],
   "source": [
    "def F_monthly(P, i, m):\n",
    "    F = (m/12)*(P*i)/(1 - pow(1+i/12,-m))\n",
    "    print(\"Total: \",F)\n",
    "    print(\"Monthly payment: \", F/m)\n",
    "    print(\"Interest paid: \", F-P)\n",
    "    return F\n",
    "\n",
    "    "
   ]
  },
  {
   "cell_type": "markdown",
   "metadata": {
    "deletable": true,
    "editable": true
   },
   "source": [
    "### Example : Car Loan\n",
    "\n",
    "- Let’s use an example of a $20,000 loan so you can buy a car.\n",
    "- The current interest rate is 4% on a 60 month loan."
   ]
  },
  {
   "cell_type": "code",
   "execution_count": 21,
   "metadata": {
    "collapsed": false,
    "deletable": true,
    "editable": true
   },
   "outputs": [
    {
     "name": "stdout",
     "output_type": "stream",
     "text": [
      "Total:  22099.826466319162\n",
      "Monthly payment:  368.3304411053194\n",
      "Interest paid:  2099.826466319162\n"
     ]
    }
   ],
   "source": [
    "# How much do you pay per month?\n",
    "# Over the course of the 60 months, how much interest have you paid?\n",
    "\n",
    "m=60\n",
    "i=0.04\n",
    "P=20000.0\n",
    "    \n",
    "F = F_monthly(P, i, m)\n",
    "\n"
   ]
  },
  {
   "cell_type": "markdown",
   "metadata": {
    "deletable": true,
    "editable": true
   },
   "source": [
    "### Example : Home Loan\n",
    "\n",
    "Now lets look longer term. It's time to buy a house. The average price of a home sold in the US in June 2014 was $331,000$. Let's say you get a 15 year fixed rate mortgage at 3.25%. "
   ]
  },
  {
   "cell_type": "code",
   "execution_count": 22,
   "metadata": {
    "collapsed": false,
    "deletable": true,
    "editable": true
   },
   "outputs": [
    {
     "name": "stdout",
     "output_type": "stream",
     "text": [
      "Total:  418650.05252246873\n",
      "Monthly payment:  2325.833625124826\n",
      "Interest paid:  87650.05252246873\n"
     ]
    }
   ],
   "source": [
    "N=15\n",
    "m=15*12\n",
    "i=0.0325\n",
    "P=331000.\n",
    "\n",
    "F = F_monthly(P, i, m)"
   ]
  },
  {
   "cell_type": "code",
   "execution_count": 23,
   "metadata": {
    "collapsed": false,
    "deletable": true,
    "editable": true
   },
   "outputs": [
    {
     "name": "stdout",
     "output_type": "stream",
     "text": [
      "Total:  459927.37242514914\n",
      "Monthly payment:  2555.152069028606\n",
      "Interest paid:  89927.37242514914\n"
     ]
    }
   ],
   "source": [
    "N=15\n",
    "m=15*12\n",
    "i=0.030\n",
    "P=370000.\n",
    "\n",
    "F = F_monthly(P, i, m)"
   ]
  },
  {
   "cell_type": "code",
   "execution_count": 24,
   "metadata": {
    "collapsed": false,
    "deletable": true,
    "editable": true
   },
   "outputs": [
    {
     "name": "stdout",
     "output_type": "stream",
     "text": [
      "Total:  580157.5052880454\n",
      "Monthly payment:  3223.097251600252\n",
      "Interest paid:  210157.5052880454\n"
     ]
    }
   ],
   "source": [
    "# what about at 6.5 percent?\n",
    "i=0.065\n",
    "\n",
    "F = F_monthly(P, i, m)\n"
   ]
  },
  {
   "cell_type": "code",
   "execution_count": 25,
   "metadata": {
    "collapsed": false,
    "deletable": true,
    "editable": true
   },
   "outputs": [
    {
     "name": "stdout",
     "output_type": "stream",
     "text": [
      "Total:  579694.8170044136\n",
      "Monthly payment:  1610.2633805678156\n",
      "Interest paid:  209694.81700441358\n"
     ]
    }
   ],
   "source": [
    "# Same house, $331,000, 30 yr fixed rate 4.25%\n",
    "N=30\n",
    "m=N*12\n",
    "i=0.0325\n",
    "\n",
    "F = F_monthly(P, i, m)"
   ]
  },
  {
   "cell_type": "code",
   "execution_count": 26,
   "metadata": {
    "collapsed": false,
    "deletable": true,
    "editable": true
   },
   "outputs": [
    {
     "name": "stdout",
     "output_type": "stream",
     "text": [
      "Total:  841914.6072926298\n",
      "Monthly payment:  2338.6516869239717\n",
      "Interest paid:  471914.6072926298\n"
     ]
    }
   ],
   "source": [
    "# How about at 6.5% interest? \n",
    "i=0.065\n",
    "\n",
    "F = F_monthly(P, i, m)"
   ]
  },
  {
   "cell_type": "markdown",
   "metadata": {
    "collapsed": true,
    "deletable": true,
    "editable": true
   },
   "source": [
    "### Exercise: Paying down the principal\n",
    "\n",
    "Okay, so, those big banks don't need all your money. It would be great to take their nice low interest rate and pay off the principal as quickly as possible so you aren't paying interest on top of quite so much interest. In buying houses, sometimes a bank won't even charge a fee for paying off your loan faster than intended. Can you derive a formula for how much this kind of behavior will save you? In the case of the mortgate above, let's assume you pay an extra \\$50 a month, every month. How much faster could you pay off your loan? How much money do you save?"
   ]
  },
  {
   "cell_type": "code",
   "execution_count": 27,
   "metadata": {
    "collapsed": false,
    "deletable": true,
    "editable": true
   },
   "outputs": [],
   "source": [
    "# do your calculations here\n"
   ]
  },
  {
   "cell_type": "markdown",
   "metadata": {
    "deletable": true,
    "editable": true
   },
   "source": [
    "## Annuities\n",
    "\n",
    "Annuities: a series of equal dollar payments coming at the end of a certain time period for a specified number of time periods (n). Examples include mortgages, life insurance benefits, lottery payments, retirement payments.\n",
    "\n",
    "### Compound annuities\n",
    "\n",
    "Compound Annuities: depositing an equal sum of money at the end of each time period for a certain number of periods and allowing the money to grow. An example might be having $\\$50$ taken out of each paycheck and put in a Christmas account earning a $9\\%$ Annual Percentage Rate.\n",
    "\n",
    "### Future value of an annuity (FVA) equation\n",
    "\n",
    "This equation is used to determine the future value of a stream of deposits/payments (PMT) invested at a specific interest rate (i), for a specific number of periods (n). For example, the future value of your 401k contributions can be calculated using this equation:\n",
    "\n",
    "$$\n",
    "\\begin{align}\n",
    "FVA &= PMT\\left(\\frac{(1 + i)^n – 1}{i}\\right)\\\\\n",
    "FVA &= \\mbox{the future value, in today’s dollars, of a sum of\n",
    "money}\\\\\n",
    "PMT &= \\mbox{the payment made at the end of each time period}\\\\\n",
    "i &= \\mbox{interest rate}\\\\\n",
    "n &= \\mbox{number of periods}\n",
    "\\end{align}\n",
    "$$\n"
   ]
  },
  {
   "cell_type": "code",
   "execution_count": 28,
   "metadata": {
    "collapsed": true,
    "deletable": true,
    "editable": true
   },
   "outputs": [],
   "source": [
    "def fva(pmt, i, n):\n",
    "    \"\"\"the future value, in today’s dollars, of a sum of money\n",
    "    :param pmt: the payment made at the end of each time period\n",
    "    :param i: interest rate\n",
    "    :param n: number of periods\n",
    "    \"\"\"\n",
    "    num = pmt*(pow((1+i),n) - 1)\n",
    "    return num/i"
   ]
  },
  {
   "cell_type": "markdown",
   "metadata": {
    "deletable": true,
    "editable": true
   },
   "source": [
    "### Exercise\n",
    "Assuming a $2000 annual contribution with a 9% rate of return, how much will an IRA be worth in 30 years?\n",
    "\n",
    "\n",
    "$$\n",
    "\\begin{align}\n",
    "FVA &= PMT\\left(\\frac{(1 + i)^n – 1}{i}\\right)\\\\\n",
    "\\end{align}\n",
    "$$"
   ]
  },
  {
   "cell_type": "code",
   "execution_count": 29,
   "metadata": {
    "collapsed": false,
    "deletable": true,
    "editable": true
   },
   "outputs": [
    {
     "name": "stdout",
     "output_type": "stream",
     "text": [
      "272615.07709180616\n"
     ]
    }
   ],
   "source": [
    "# Assuming a $2000 annual contribution \n",
    "pmt = 2000\n",
    "# with a 9% rate of return, \n",
    "i=0.09\n",
    "# how much will an IRA be worth in 30 years?\n",
    "n=30\n",
    "ira_val = fva(pmt, i, n)\n",
    "print(ira_val)\n"
   ]
  },
  {
   "cell_type": "markdown",
   "metadata": {
    "deletable": true,
    "editable": true
   },
   "source": [
    "### Exercise : Anna's savings\n",
    "Each month, Anna deposits her paycheck ($5,000) in an account offering a monthly interest rate of 6%. How much will Anna have in her account at the end of 1 year?\n",
    "\n",
    "\n",
    "$$\n",
    "\\begin{align}\n",
    "FVA &= PMT\\left(\\frac{(1 + i)^n – 1}{i}\\right)\\\\\n",
    "\\end{align}\n",
    "$$"
   ]
  },
  {
   "cell_type": "code",
   "execution_count": 30,
   "metadata": {
    "collapsed": false,
    "deletable": true,
    "editable": true
   },
   "outputs": [
    {
     "name": "stdout",
     "output_type": "stream",
     "text": [
      "84349.70598629594\n"
     ]
    }
   ],
   "source": [
    "# Assuming a $5000 monthly contribution \n",
    "pmt=5000\n",
    "\n",
    "# with a 6% monthly rate of return, \n",
    "i = 0.06\n",
    "\n",
    "# how much will her account have in it in 1 year?\n",
    "n=12\n",
    "\n",
    "ira_val = fva(pmt, i, n)\n",
    "print(ira_val)"
   ]
  },
  {
   "cell_type": "markdown",
   "metadata": {
    "deletable": true,
    "editable": true
   },
   "source": [
    "### Exercise : Startup savings\n",
    "\n",
    "- If a garage startup deposits $1,200 each year into a savings account earning an Annual Rate of return of 2% for 15 years, how much will the startup have at the end of the 15 years?\n",
    "\n",
    "\n",
    "$$\n",
    "\\begin{align}\n",
    "FVA &= PMT\\left(\\frac{(1 + i)^n – 1}{i}\\right)\\\\\n",
    "\\end{align}\n",
    "$$"
   ]
  },
  {
   "cell_type": "code",
   "execution_count": 31,
   "metadata": {
    "collapsed": false,
    "deletable": true,
    "editable": true
   },
   "outputs": [
    {
     "name": "stdout",
     "output_type": "stream",
     "text": [
      "20752.100299447793\n"
     ]
    }
   ],
   "source": [
    "# Assuming a $1200 yearly contribution \n",
    "pmt = 1200\n",
    "\n",
    "# with a 2% annual rate of return, \n",
    "i = 0.02\n",
    "\n",
    "# how much will the account have in it in 15 years?\n",
    "n =15\n",
    "\n",
    "ira_val = fva(pmt, i, n)\n",
    "print(ira_val)"
   ]
  },
  {
   "cell_type": "markdown",
   "metadata": {
    "deletable": true,
    "editable": true
   },
   "source": [
    "- How much will the startup have if it deposits $1,200 each **month**? \n",
    "\n",
    "\n",
    "$$\n",
    "\\begin{align}\n",
    "FVA &= PMT\\left(\\frac{(1 + i)^n – 1}{i}\\right)\\\\\n",
    "\\end{align}\n",
    "$$"
   ]
  },
  {
   "cell_type": "code",
   "execution_count": 32,
   "metadata": {
    "collapsed": false,
    "deletable": true,
    "editable": true
   },
   "outputs": [
    {
     "name": "stdout",
     "output_type": "stream",
     "text": [
      "20971.30556717007\n"
     ]
    }
   ],
   "source": [
    "# Assuming a $1200 monthly contribution \n",
    "pmt = 100\n",
    "# with a 2% annual rate of return, \n",
    "i = 0.02/12\n",
    "# how much will the account have in it in 15 years?\n",
    "n=15*12\n",
    "\n",
    "ira_val = fva(pmt, i, n)\n",
    "print(ira_val)"
   ]
  },
  {
   "cell_type": "markdown",
   "metadata": {
    "deletable": true,
    "editable": true
   },
   "source": [
    "- How much will the garage have if they **earn 2% interest monthly**?"
   ]
  },
  {
   "cell_type": "code",
   "execution_count": 33,
   "metadata": {
    "collapsed": false,
    "deletable": true,
    "editable": true
   },
   "outputs": [
    {
     "name": "stdout",
     "output_type": "stream",
     "text": [
      "2059249.8814193557\n"
     ]
    }
   ],
   "source": [
    "# Assuming a $100 monthly contribution \n",
    "pmt=1200\n",
    "# with a 2% monthly rate of return, \n",
    "i = 0.02\n",
    "# how much will the account have in it in 15 years?\n",
    "n=15*12\n",
    "\n",
    "ira_val = fva(pmt, i, n)\n",
    "print(ira_val)"
   ]
  },
  {
   "cell_type": "markdown",
   "metadata": {
    "deletable": true,
    "editable": true
   },
   "source": [
    "This example demonstrates why you should exercise extreme caution with these equations to make double sure your time frames are consistent.\n",
    "\n",
    "- If the payment is a monthly payment; then the compounding rate of return has to be a monthly rate of return.\n",
    "- Example: A 15% ANNUAL rate of return is equal to a monthly rate of return of 1.25% (because 15/12 = 1.25)"
   ]
  },
  {
   "cell_type": "markdown",
   "metadata": {
    "deletable": true,
    "editable": true
   },
   "source": [
    "### Present value of an annuity (PVA) equation\n",
    "\n",
    "This equation is used to determine the present value of a future stream of payments, such as your pension fund or insurance benefits.\n",
    "\n",
    "$$\n",
    "\\begin{align}\n",
    "PVA &=PMT\\frac{1–(1+i)^{-n}}{i}\\\\\n",
    "PVA &= \\mbox{the present value, in today’s dollars, of a sum of money}\\\\\n",
    "PMT &= \\mbox{the payment to be made at the end of each time period}\\\\\n",
    "i &= \\mbox{interest rate}\\\\\n",
    "n &= \\mbox{number of periods}\n",
    "\\end{align}\n",
    "$$"
   ]
  },
  {
   "cell_type": "code",
   "execution_count": 34,
   "metadata": {
    "collapsed": true,
    "deletable": true,
    "editable": true
   },
   "outputs": [],
   "source": [
    "def pva(pmt, i, n):\n",
    "    \"\"\"the present value, in today’s dollars, of a sum of money\n",
    "    :param PMT: the payment to be made at the end of each time period\n",
    "    :param i: interest rate\n",
    "    :param n: number of periods\n",
    "    \"\"\"\n",
    "    num =1 - pow((1+i),-n) \n",
    "    return (pmt/i)*num"
   ]
  },
  {
   "cell_type": "markdown",
   "metadata": {
    "deletable": true,
    "editable": true
   },
   "source": [
    "### Exercise: Retirement Payout\n",
    "What is the present value of 25 annual payments of $50,000 offered to a retiring employee, assuming a 5% annual discount rate? (PVA is the only unknown)"
   ]
  },
  {
   "cell_type": "code",
   "execution_count": 35,
   "metadata": {
    "collapsed": false,
    "deletable": true,
    "editable": true
   },
   "outputs": [
    {
     "data": {
      "text/plain": [
       "704697.2283022382"
      ]
     },
     "execution_count": 35,
     "metadata": {},
     "output_type": "execute_result"
    }
   ],
   "source": [
    "pva(5e4, 0.05, 25)"
   ]
  },
  {
   "cell_type": "code",
   "execution_count": 36,
   "metadata": {
    "collapsed": false,
    "deletable": true,
    "editable": true
   },
   "outputs": [
    {
     "data": {
      "text/plain": [
       "1250000.0"
      ]
     },
     "execution_count": 36,
     "metadata": {},
     "output_type": "execute_result"
    }
   ],
   "source": [
    "5e4*25"
   ]
  },
  {
   "cell_type": "markdown",
   "metadata": {
    "deletable": true,
    "editable": true
   },
   "source": [
    "**Warning!!**\n",
    "Don't use the wrong equation! The difference between future value and present value is massive. The same inputs to the fva equation is a much larger number!"
   ]
  },
  {
   "cell_type": "code",
   "execution_count": 37,
   "metadata": {
    "collapsed": false,
    "deletable": true,
    "editable": true
   },
   "outputs": [
    {
     "data": {
      "text/plain": [
       "2386354.9408993884"
      ]
     },
     "execution_count": 37,
     "metadata": {},
     "output_type": "execute_result"
    }
   ],
   "source": [
    "fva(5e4, 0.05, 25)"
   ]
  },
  {
   "cell_type": "markdown",
   "metadata": {
    "deletable": true,
    "editable": true
   },
   "source": [
    "We can solve the PVA equation to give a solution for the payment itself in terms of the present value. \n",
    "\n",
    "$$\n",
    "\\begin{align}\n",
    "PMT &=PVA\\frac{1–(1+i)^{-n}}{i}\n",
    "\\end{align}\n",
    "$$\n",
    "With this equation, for example, one can determine what size payment one needs to make. What are the annual payments to repay $\\$6,000$ at $5\\%$ APR interest? (the payment is the unknown)"
   ]
  },
  {
   "cell_type": "code",
   "execution_count": 38,
   "metadata": {
    "collapsed": false,
    "deletable": true,
    "editable": true
   },
   "outputs": [],
   "source": [
    "def pmt(pva, i, n):\n",
    "    return pva*i/((1-pow((1+i), -n)))"
   ]
  },
  {
   "cell_type": "code",
   "execution_count": 39,
   "metadata": {
    "collapsed": false,
    "deletable": true,
    "editable": true
   },
   "outputs": [
    {
     "name": "stdout",
     "output_type": "stream",
     "text": [
      "3226.829268292681\n"
     ]
    }
   ],
   "source": [
    "debt = 6000\n",
    "i = 0.05\n",
    "n = 2\n",
    "print(pmt(debt, i, n))"
   ]
  },
  {
   "cell_type": "code",
   "execution_count": 40,
   "metadata": {
    "collapsed": false,
    "deletable": true,
    "editable": true
   },
   "outputs": [
    {
     "name": "stdout",
     "output_type": "stream",
     "text": [
      "6000.0\n"
     ]
    }
   ],
   "source": [
    "#this is a test.\n",
    "print(pva(pmt(debt, i, n), i, n))"
   ]
  },
  {
   "cell_type": "markdown",
   "metadata": {
    "deletable": true,
    "editable": true
   },
   "source": [
    "## Bonds\n",
    "\n",
    "A bond is a type of security instrument used to raise capital by an issuing party (an issuer). \n",
    "\n",
    "They have the following characteristics : \n",
    "- A **principal** amount to be repaid on a specific date in the future.\n",
    "- The principal amount is also known as the face value or par value\n",
    "- The payment date is known as the maturity date\n",
    "- Many bonds have regular coupon payments which are paid-out annually, semi-annually or quarterly.\n",
    "- The coupon rate is the interest rate used to calculate the coupon payment and is a percentage of the principal amount\n",
    "- Coupon Payment = Coupon Rate x Principal\n",
    "- A bond is a **legal debt obligation**. Failure to make payments as required can result in legal recourse by the holders of the bonds. \n",
    "- A bond may be **callable** by the issuer. That is, after some specified amount of time or some specified event, the issuer can purchase the bonds back from the market. Typically the issuer will have to pay some type of penalty for this early re-call.\n",
    "    - \n",
    "- **Issuer:** the entity that has promised payment\n",
    "  - The issuance of bonds is known as a **bond offering**\n",
    "  - The issuer may offer thousands or millions of bonds in the single offering.\n",
    "- **Holder** - the party who currently has possession of the bond\n",
    "  - The holding party receives the payments from the issuer\n",
    "  - Often, the holding party can freely sell the bond to a third-party and all rights will transfer\n",
    "- Effectively, a bond is a loan.\n",
    "- When issued, some bonds simply sell for their face value.\n",
    "- In this case,the company would convey the bond to the buyer in exchange for receiving $\\$1,000$.\n",
    "- Assuming the buyer (now the holder) holds the bond to maturity, they will receive 5 annual payments of $\\$50$ and a final payment of $\\$1,000$ after 5 years.\n",
    "- In other words, the buyer receives annual interest payments and finally the return of his principal."
   ]
  },
  {
   "cell_type": "markdown",
   "metadata": {
    "deletable": true,
    "editable": true
   },
   "source": [
    "### Bonds: example\n",
    " \n",
    "A company wants to raise money for a new project and decides to do so by issuing bonds\n",
    "- Principal is $\\$1,000$\n",
    "- Maturity Date is 5 years from issuance\n",
    "- Coupon Rate is 5%\n",
    "- Coupon Payments are made annually at end of year\n",
    "- Coupon Payment is (Principal x Coupon Rate) = $1000 \\times 5\\% = \\$50$"
   ]
  },
  {
   "cell_type": "code",
   "execution_count": 41,
   "metadata": {
    "collapsed": true,
    "deletable": true,
    "editable": true
   },
   "outputs": [],
   "source": [
    "def coupon_pmt(principal, coupon_rate):\n",
    "    return principal*coupon_rate"
   ]
  },
  {
   "cell_type": "code",
   "execution_count": 42,
   "metadata": {
    "collapsed": false,
    "deletable": true,
    "editable": true
   },
   "outputs": [
    {
     "name": "stdout",
     "output_type": "stream",
     "text": [
      "[[    0.]\n",
      " [   50.]\n",
      " [   50.]\n",
      " [   50.]\n",
      " [   50.]\n",
      " [ 1050.]]\n"
     ]
    }
   ],
   "source": [
    "\n",
    "from pandas import DataFrame as df\n",
    "    \n",
    "def payout(principal, mat_date, coupon_rate, year):\n",
    "    pay = 0\n",
    "    if 0 < year <= mat_date:\n",
    "        pay = coupon_pmt(principal, coupon_rate)\n",
    "        if year == mat_date:\n",
    "            pay += principal\n",
    "    return pay\n",
    "\n",
    "def payouts(principal, mat_date, coupon_rate):\n",
    "    y = 0\n",
    "    pay = np.zeros((mat_date+1, 1))\n",
    "    while y <= mat_date :\n",
    "        pay[y] = payout(principal, mat_date, coupon_rate, y)\n",
    "        y+=1\n",
    "    return pay\n",
    "\n",
    "i = 0.05\n",
    "coupon_rate = 0.05\n",
    "principal = 1000\n",
    "mat_date = 5\n",
    "pay = payouts(1000, 5, 0.05)\n",
    "print(pay)"
   ]
  },
  {
   "cell_type": "markdown",
   "metadata": {
    "deletable": true,
    "editable": true
   },
   "source": [
    "### Bonds: Valuation\n",
    "- Some bonds are issued at a price equal to their face value.\n",
    "- Many bonds, however, are issued at a price higher or lower than their face value.\n",
    "- Ultimately, the market (i.e. supply and demand) determines a bond’s price. Sometimes it is willing to pay more than face value, other times less.\n",
    "\n",
    "\n",
    "**Discussion** Why? What drives this? Can you explain this with what we've learned already?\n",
    "\n",
    "\n"
   ]
  },
  {
   "cell_type": "markdown",
   "metadata": {
    "collapsed": true,
    "deletable": true,
    "editable": true
   },
   "source": [
    "## Bonds: Present Value Interest Factor\n",
    "\n",
    "The Present Value Interest Factor reflects the impact of the time value of money on this investment. Money now is worth more than money later. \n",
    "\n",
    "$$\n",
    "PVIF = (1 + i)^{-n}  \n",
    "$$\n",
    "\n",
    "The Present Value (P), is then:\n",
    "\n",
    "$$\n",
    "P = F(1+i)^{-n}\n",
    "$$\n",
    "\n",
    "Look familiar? This is just the discounting equation we have already seen. \n"
   ]
  },
  {
   "cell_type": "code",
   "execution_count": 60,
   "metadata": {
    "collapsed": false,
    "deletable": true,
    "editable": true
   },
   "outputs": [
    {
     "name": "stdout",
     "output_type": "stream",
     "text": [
      "   year  payout\n",
      "0     0     0.0\n",
      "1     1    50.0\n",
      "2     2    50.0\n",
      "3     3    50.0\n",
      "4     4    50.0\n",
      "5     5  1050.0\n"
     ]
    }
   ],
   "source": [
    "import pandas as pd\n",
    "bv = pd.DataFrame() # This is a data structure to hold our bond valuation information\n",
    "\n",
    "i = 0.04\n",
    "coupon_rate = 0.05\n",
    "principal = 1000\n",
    "mat_date = 5\n",
    "\n",
    "bv['year'] = range(0, mat_date+1)\n",
    "bv['payout'] = [payout(principal, mat_date, coupon_rate, y) for y in bv['year']]\n",
    "print(bv)"
   ]
  },
  {
   "cell_type": "code",
   "execution_count": 61,
   "metadata": {
    "collapsed": false,
    "deletable": true,
    "editable": true
   },
   "outputs": [
    {
     "name": "stdout",
     "output_type": "stream",
     "text": [
      "   year  payout      pvif\n",
      "0     0     0.0  1.000000\n",
      "1     1    50.0  0.961538\n",
      "2     2    50.0  0.924556\n",
      "3     3    50.0  0.888996\n",
      "4     4    50.0  0.854804\n",
      "5     5  1050.0  0.821927\n"
     ]
    }
   ],
   "source": [
    "bv['pvif'] = [pow(1+i, -y) for y in bv['year']]     \n",
    "print(bv)                "
   ]
  },
  {
   "cell_type": "code",
   "execution_count": 62,
   "metadata": {
    "collapsed": false,
    "deletable": true,
    "editable": true
   },
   "outputs": [
    {
     "name": "stdout",
     "output_type": "stream",
     "text": [
      "   year  payout      pvif           p\n",
      "0     0     0.0  1.000000    0.000000\n",
      "1     1    50.0  0.961538   48.076923\n",
      "2     2    50.0  0.924556   46.227811\n",
      "3     3    50.0  0.888996   44.449818\n",
      "4     4    50.0  0.854804   42.740210\n",
      "5     5  1050.0  0.821927  863.023462\n"
     ]
    }
   ],
   "source": [
    "bv['p'] = bv['payout']*bv['pvif']\n",
    "print(bv)"
   ]
  },
  {
   "cell_type": "code",
   "execution_count": 63,
   "metadata": {
    "collapsed": false,
    "deletable": true,
    "editable": true
   },
   "outputs": [
    {
     "data": {
      "text/plain": [
       "0       0.000000\n",
       "1      48.076923\n",
       "2      94.304734\n",
       "3     138.754552\n",
       "4     181.494761\n",
       "5    1044.518223\n",
       "Name: p, dtype: float64"
      ]
     },
     "execution_count": 63,
     "metadata": {},
     "output_type": "execute_result"
    }
   ],
   "source": [
    "bv['p'].cumsum()"
   ]
  },
  {
   "cell_type": "code",
   "execution_count": 64,
   "metadata": {
    "collapsed": false,
    "deletable": true,
    "editable": true
   },
   "outputs": [
    {
     "data": {
      "text/plain": [
       "<matplotlib.axes._subplots.AxesSubplot at 0x10c991f28>"
      ]
     },
     "execution_count": 64,
     "metadata": {},
     "output_type": "execute_result"
    },
    {
     "data": {
      "text/plain": [
       "<matplotlib.figure.Figure at 0x11a45e6d8>"
      ]
     },
     "metadata": {},
     "output_type": "display_data"
    },
    {
     "data": {
      "image/png": "[encoded data removed]",
      "text/plain": [
       "<matplotlib.figure.Figure at 0x11a459860>"
      ]
     },
     "metadata": {},
     "output_type": "display_data"
    }
   ],
   "source": [
    "plt.clf()\n",
    "bv[['payout','p']].cumsum().plot()\n"
   ]
  },
  {
   "cell_type": "markdown",
   "metadata": {
    "deletable": true,
    "editable": true
   },
   "source": [
    "### Bonds: Valuation Conclusion\n",
    "Based on the Time Value of Money, then, we should be willing to pay $\\$1,000$ to receive five annual payments of $\\$50$ and a final payment of $\\$1,000$ after five years, assuming an interest rate of $5\\%$. When the bond valuation is equal to the face value, we say the bond is **“selling at _par_ value.”**\n",
    "\n",
    "### Exercise: Question the Assumptions\n",
    "\n",
    "What if the interest rate assumption was wrong? How does a higher rate impact the attractiveness of investing in this bond? What about a lower rate?\n",
    "\n",
    "Keeping everything else the same, change the interest rate, i, and re-analyze the valuation of the bond. At an interest rate of 7%, should you still buy it at a face value of $\\$1000$? \n",
    "\n",
    "What about a 4% interest rate?"
   ]
  },
  {
   "cell_type": "code",
   "execution_count": 65,
   "metadata": {
    "collapsed": false,
    "deletable": true,
    "editable": true
   },
   "outputs": [
    {
     "name": "stdout",
     "output_type": "stream",
     "text": [
      "0       0.000000\n",
      "1      48.076923\n",
      "2      94.304734\n",
      "3     138.754552\n",
      "4     181.494761\n",
      "5    1044.518223\n",
      "Name: p, dtype: float64\n"
     ]
    }
   ],
   "source": [
    "i = 0.04\n",
    "bv['pvif'] = [pow(1+i, -y) for y in bv['year']]     \n",
    "bv['p'] = bv['payout']*bv['pvif']\n",
    "print(bv['p'].cumsum())"
   ]
  },
  {
   "cell_type": "markdown",
   "metadata": {
    "deletable": true,
    "editable": true
   },
   "source": [
    "When the bond valuation is below the face value we say the bond is “selling at discount to par value.”\n",
    "\n",
    "When the bond valuation is below the face value we say the bond is “selling at premium to par value.”"
   ]
  },
  {
   "cell_type": "markdown",
   "metadata": {
    "deletable": true,
    "editable": true
   },
   "source": [
    "### A note about Interest Rates\n",
    "\n",
    "I keep using the term, “interest rate” and it appears to mean different things depending on the use. Unfortunately, there are many terms for the same concept. And there are many concepts that use the same name. \n",
    "- Back in our bond calculations, the market interest rate which was the denominator of our TVM analysis is also known as the “yield to maturity” (YTM) or simply “yield”.\n",
    "- People will also use the term “discount rate” or “discount factor” because we are discounting our future cash flows back to the present at this rate\n",
    "\n",
    "To make it even more confusing, there are many different interest rates in an economy\n",
    "- The interest rate the government is charged to borrow money is lower than the interest rate I am charged on my credit card\n",
    "- Companies with good investment opportunities and lots of cash have lower interest rates for their corporate debt than companies few growth opportunities and no cash.\n",
    "- Interest rates for the exact same security will change over time\n",
    "- Interest rates of identical securities with different times to maturity will be different\n",
    "- But in all these cases, the interest rate will increase when a given risk increases and decrease when a given risk decreases.\n",
    "\n",
    "\n",
    "The logic is simple:\n",
    "- In the face of multiple investment or lending opportunities, if we are not compensated for additional risk we will always put our money in the least risky opportunity.\n",
    "- We need to be induced to invest or lend to the riskier situation by the promise of higher returns.\n",
    "\n",
    "### The Fed. \n",
    "\n",
    "The growth of money, being tied to so closely to the market and to the rate at which banks can get loans, is strongly affected by the Federal Reserve. [Try being the Fed](http://sffed-education.org/chairthefed/). Can you keep us on an even keel?"
   ]
  },
  {
   "cell_type": "markdown",
   "metadata": {
    "deletable": true,
    "editable": true
   },
   "source": [
    "## Additional info on Bond pricing, rates paid by utilities to print, handle, etc.\n",
    "\n",
    "Bonds aren't sold out of thin air. Importantly, the price of the bond should also reflect the sometimes small, sometimes appreciable, expenditures required to print and manage the bond sales. Contemplate the impact of selling many small bonds vs. a few large bonds. How might this choice impact those expenditures?\n"
   ]
  },
  {
   "cell_type": "markdown",
   "metadata": {
    "collapsed": true,
    "deletable": true,
    "editable": true
   },
   "source": [
    "## Key Lessons\n",
    "\n",
    "We have covered the following key concepts in this notebook:\n",
    "\n",
    "- \\$x today is more valuable than \\$x tomorrow (time value of money)\n",
    "- The future value with simple interest is $F_{simple} =  P(1+iN)$\n",
    "- The future value with compounding interest is $F_{compound} = P(1+i)^N$\n",
    "- The principal P required to acheive a certain F is $P_{compound} = \\frac{F}{(1+i)^N}$\n",
    "- Inflation is a direct result of the time value of money and can be derived from $F_{simple}$\n",
    "- Inflation adjusted interest rate is $i^* = \\frac{(1+i)}{(1+r)} - 1$ where r is inflation rate, i is nominal interest rate.\n",
    "- $i_{MARR}$ is the lowest interest rate $i$ one is willing to get for investing their money, given known $F$ and $P$.\n",
    "- Amortized payments (like monthly car payments) make this whole thing much more complex.\n",
    "- Annuities are repeated payments, and compound annuities receive compounded interest.\n",
    "- The future value of a compound annuity in today's dollars is $FVA = PMT\\frac{(1+i)^n-1}{i}$\n",
    "- Solving for the payment can give an idea of the real value: $PMT = FVA\\frac{i}{(1+i)^n-1}$\n",
    "- The present value of a compound annuity in today's dollars is $PVA = PMT\\frac{1 - (1+i)^{-n}}{i}$\n",
    "- Solving for the payment can give an idea of obligations: $PMT = PVA\\frac{i}{1 - (1+i)^{-n}}$\n",
    "- The book's notation for payments for the present value of an annuity is : $\\frac{F}{N} = \\left[ \\frac{i(1+i)^n}{(1+i)^n - 1} \\right]P$ \n",
    "- With rearrangement, that is the same as: $\\frac{F}{N} = \\left[ \\frac{i}{1 - (1+i)^{-n}} \\right]P$.\n"
   ]
  },
  {
   "cell_type": "markdown",
   "metadata": {
    "deletable": true,
    "editable": true
   },
   "source": [
    "## Next Topic\n",
    "\n",
    "Over the next week, we'll be talking about :\n",
    "\n",
    "- The Levelized Cost of Electricity"
   ]
  },
  {
   "cell_type": "code",
   "execution_count": null,
   "metadata": {
    "collapsed": true,
    "deletable": true,
    "editable": true
   },
   "outputs": [],
   "source": []
  }
 ],
 "metadata": {
  "anaconda-cloud": {},
  "kernelspec": {
   "display_name": "Python 3",
   "language": "python",
   "name": "python3"
  },
  "language_info": {
   "codemirror_mode": {
    "name": "ipython",
    "version": 3
   },
   "file_extension": ".py",
   "mimetype": "text/x-python",
   "name": "python",
   "nbconvert_exporter": "python",
   "pygments_lexer": "ipython3",
   "version": "3.5.2"
  }
 },
 "nbformat": 4,
 "nbformat_minor": 0
}
