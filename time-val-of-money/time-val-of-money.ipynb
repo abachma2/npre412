{
 "cells": [
  {
   "cell_type": "code",
   "execution_count": 1,
   "metadata": {
    "collapsed": true,
    "deletable": true,
    "editable": true
   },
   "outputs": [],
   "source": [
    "%matplotlib inline\n",
    "\n",
    "import matplotlib\n",
    "import numpy as np\n",
    "import matplotlib.pyplot as plt\n",
    "\n",
    "plt.rcParams[\"figure.figsize\"] = (12, 9)\n",
    "\n",
    "font = {'family' : 'normal',\n",
    "        'weight' : 'normal',\n",
    "        'size'   : 20}\n",
    "\n",
    "matplotlib.rc('font', **font)\n"
   ]
  },
  {
   "cell_type": "markdown",
   "metadata": {
    "deletable": true,
    "editable": true
   },
   "source": [
    "\n",
    "\n",
    "## Learning Objectives\n",
    "\n",
    "At the end of this lesson, you will be equipped to:\n",
    "\n",
    "- Recognize the relationship between time and money \n",
    "- Explain discounting, interest, and growth of money\n",
    "- Calculate present and future values of money, annuities, and bonds\n",
    "- Apply these calculations to appropriate situations\n",
    "\n",
    "\n",
    "## Notation\n",
    "\n",
    "In mathematically describing the time value of money, we'll use the following notation.\n",
    "\n",
    "$$P=\\mbox{present value } (\\$)$$\n",
    "$$F=\\mbox{future value } (\\$)$$\n",
    "$$N=\\mbox{number of periods of investment } (\\mbox{period})$$\n",
    "$$i=\\mbox{interest rate per period } (\\mbox{period}^{-1}) $$"
   ]
  },
  {
   "cell_type": "markdown",
   "metadata": {
    "deletable": true,
    "editable": true
   },
   "source": [
    "# Time Value of Money\n",
    "\n",
    "The **time value of money** means that a person places a higher value on a dollar in one point in time than on the same dollar at a different (usually later) point in time.\n",
    "\n",
    "- Are you willing to give me $\\$100$ today if I give you $\\$100$ in one year? \n",
    "- Why or why not? \n",
    "- **Risk:** Can you trust that you will get the $\\$100$ back?\n",
    "- **Availability of Capital:** What if you don’t have the $\\$100$ to give me?\n"
   ]
  },
  {
   "cell_type": "markdown",
   "metadata": {
    "deletable": true,
    "editable": true
   },
   "source": [
    "\n",
    "## Growth With Simple Interest\n",
    "\n",
    "In the simplest case, the future value of money grows linearly with the number of periods invested.\n",
    "\n",
    "$$F=P(1+iN)$$"
   ]
  },
  {
   "cell_type": "markdown",
   "metadata": {
    "deletable": true,
    "editable": true
   },
   "source": [
    "Let's create a python function that calculates this. It will accept 3 variables as inputs, $P$, $i$, and $N$. It will return a single value, $F_{simple}$, the future value in the case of simple interest."
   ]
  },
  {
   "cell_type": "code",
   "execution_count": 2,
   "metadata": {
    "collapsed": true,
    "deletable": true,
    "editable": true
   },
   "outputs": [],
   "source": [
    "def F_simple(P, i, N):\n",
    "    '''Growth with simple interest'''\n",
    "    return P*(1+i*N)"
   ]
  },
  {
   "cell_type": "code",
   "execution_count": 3,
   "metadata": {
    "collapsed": false,
    "deletable": true,
    "editable": true
   },
   "outputs": [],
   "source": [
    "# example\n",
    "P=100  # You give me $100\n",
    "i=0.04 # at 10 percent interest per period\n",
    "N=10   # it takes me 10 periods to pay it back"
   ]
  },
  {
   "cell_type": "code",
   "execution_count": 4,
   "metadata": {
    "collapsed": false,
    "deletable": true,
    "editable": true,
    "scrolled": true
   },
   "outputs": [
    {
     "name": "stdout",
     "output_type": "stream",
     "text": [
      "You give me $100 today, but after 10 years at an interest rate of 0.04, I will owe you:\n",
      "140.0\n"
     ]
    }
   ],
   "source": [
    "print(\"You give me $\"+str(P)+\" today, but after \" + str(N) +\n",
    "      \" years at an interest rate of \" + str(i) + \", I will owe you:\")\n",
    "print(F_simple(P, i, N))"
   ]
  },
  {
   "cell_type": "markdown",
   "metadata": {
    "deletable": true,
    "editable": true
   },
   "source": [
    "### Question: What kind of function is the simple growth equation?\n",
    "\n",
    "Recall the equation for F(P, i, N) above. With this simple interest growth type, the future value (the amount owed, in this case) is what kind of function of time (N)?\n",
    "\n",
    "- linear\n",
    "- quadratic\n",
    "- logrithmic\n",
    "- exponential"
   ]
  },
  {
   "cell_type": "code",
   "execution_count": 5,
   "metadata": {
    "collapsed": false,
    "deletable": true,
    "editable": true
   },
   "outputs": [
    {
     "name": "stderr",
     "output_type": "stream",
     "text": [
      "/Users/khuff/anaconda/lib/python3.5/site-packages/matplotlib/font_manager.py:1288: UserWarning: findfont: Font family ['normal'] not found. Falling back to Bitstream Vera Sans\n",
      "  (prop.get_family(), self.defaultFamily[fontext]))\n"
     ]
    },
    {
     "data": {
      "image/png": "[encoded data removed]",
      "text/plain": [
       "<matplotlib.figure.Figure at 0x10c1a29b0>"
      ]
     },
     "metadata": {},
     "output_type": "display_data"
    }
   ],
   "source": [
    "# The magic below shows the plot interactively when it's created\n",
    "# we need the numerical python library\n",
    "import numpy as np\n",
    "# we'll use matplotlib to plot the function\n",
    "import matplotlib \n",
    "# we'll call the useful parts of matplotlib \"plt\"\n",
    "import matplotlib.pyplot as plt\n",
    "# time is an array of values between 0 and 100 years in increments of 1 year\n",
    "time = np.arange(0, 101, 1)\n",
    "# label the x axis\n",
    "plt.xlabel('Time (y)') \n",
    "# label the y axis\n",
    "plt.ylabel('Amount Owed ($)') \n",
    "# title the plot\n",
    "title = \"Amount Owed Over Time on $\" + str(P) + \" at \" + str(i*100) + \"% Interest\"\n",
    "plt.title(title)\n",
    "# attach a data series to the plot. Use blue dots with lines.\n",
    "plt.plot(time, F_simple(P,i,time), 'bo-', label=\"simple\") \n",
    "# create a legend and put it in the top left\n",
    "plt.legend(loc=2) \n",
    "# Display the plot (not actually necessary with %matplotlib notebook, but needed in scripts)\n",
    "plt.show()"
   ]
  },
  {
   "cell_type": "markdown",
   "metadata": {
    "deletable": true,
    "editable": true
   },
   "source": [
    "### Question: What if the interest rate were doubled?\n",
    "\n",
    "After 10 years at 10% interest, I would pay you \\$200 to make us square. Within this amount, I am paying \\$100 to return the original prinicipal. The other \\$100 is pure interest.\n",
    "\n",
    "If the interest rate were doubled (20%), how much _interest_ would I pay you in 10 years?"
   ]
  },
  {
   "cell_type": "code",
   "execution_count": 6,
   "metadata": {
    "collapsed": false,
    "deletable": true,
    "editable": true
   },
   "outputs": [
    {
     "data": {
      "image/png": "[encoded data removed]",
      "text/plain": [
       "<matplotlib.figure.Figure at 0x10c1c6dd8>"
      ]
     },
     "metadata": {},
     "output_type": "display_data"
    }
   ],
   "source": [
    "time = np.arange(0, 11, 1) # plot time between 0 and 10 years in increments of 1 year\n",
    "rates = np.arange(0.0, 0.11, 0.01) # plot interest rates between 0 and 10% in increments of 1%\n",
    "plt.xlabel('Interest Rate')\n",
    "plt.ylabel('How Much I Owe ($)')\n",
    "title = 'Amount Owed (P=$' + str(P) + ')' \n",
    "plt.title(title)\n",
    "for rate in rates:\n",
    "    plt.plot(time, F_simple(P,rate,time), label=rate)\n",
    "plt.legend(loc=2)\n",
    "plt.show()"
   ]
  },
  {
   "cell_type": "markdown",
   "metadata": {
    "deletable": true,
    "editable": true
   },
   "source": [
    "## Growth With Compounding Interest\n",
    "\n",
    "In a compounding interest scenario, the future value of money is _compounded_ at each period. That is, after each period (e.g. each year) the total amount owed is note and then interest is applied to that amount. After the first period, the borrower is racking up additional interest on the interest that they owe. The equation is like this:\n",
    "\n",
    "$$F=P(1+i)^N$$\n",
    "\n",
    "\n",
    "### Question: What kind of equation is the compounding interest equation?\n",
    "For the compounding interest form of F(P, i, N) in the equation above, what kind of relationship does the future value of money (F) have with time (N):\n",
    "\n",
    "- quadratic\n",
    "- linear\n",
    "- logarithmic\n",
    "- exponential\n"
   ]
  },
  {
   "cell_type": "code",
   "execution_count": 7,
   "metadata": {
    "collapsed": true,
    "deletable": true,
    "editable": true
   },
   "outputs": [],
   "source": [
    "def F_compound(P, i, N):\n",
    "    '''Growth with compounding interest'''\n",
    "    return P*pow((1+i),N)"
   ]
  },
  {
   "cell_type": "code",
   "execution_count": 8,
   "metadata": {
    "collapsed": false,
    "deletable": true,
    "editable": true
   },
   "outputs": [
    {
     "name": "stdout",
     "output_type": "stream",
     "text": [
      "You give me $100 today, but after 10 years at an interest rate of 0.1, I will owe you:\n",
      "259.3742460100002\n"
     ]
    }
   ],
   "source": [
    "i = 0.1\n",
    "print(\"You give me $\"+str(P)+\" today, but after \" + str(N) +\n",
    "      \" years at an interest rate of \" + str(i) + \", I will owe you:\")\n",
    "print(F_compound(P, i, N))"
   ]
  },
  {
   "cell_type": "code",
   "execution_count": 9,
   "metadata": {
    "collapsed": false,
    "deletable": true,
    "editable": true
   },
   "outputs": [
    {
     "data": {
      "image/png": "[encoded data removed]",
      "text/plain": [
       "<matplotlib.figure.Figure at 0x10e5d09b0>"
      ]
     },
     "metadata": {},
     "output_type": "display_data"
    }
   ],
   "source": [
    "# Plot it as a function of interest rate\n",
    "plt.clf()\n",
    "time = np.arange(0, 11, 1) \n",
    "plt.xlabel('Time')\n",
    "plt.ylabel('Amount Owed ($)')\n",
    "plt.title('Amount Owed Over Time')\n",
    "plt.plot(time, F_simple(P,i,time), 'bo-', label=\"simple\")\n",
    "plt.plot(time, F_compound(P,i,time), 'go-', label=\"compound\")\n",
    "plt.legend(loc=2)\n",
    "plt.show()"
   ]
  },
  {
   "cell_type": "code",
   "execution_count": 14,
   "metadata": {
    "collapsed": false,
    "deletable": true,
    "editable": true
   },
   "outputs": [
    {
     "data": {
      "image/png": "[encoded data removed]",
      "text/plain": [
       "<matplotlib.figure.Figure at 0x10e601080>"
      ]
     },
     "metadata": {},
     "output_type": "display_data"
    }
   ],
   "source": [
    "# Plot it for different interest rates\n",
    "\n",
    "import itertools\n",
    "marker = itertools.cycle((',', '+', '.', 'o', '*')) \n",
    "line = itertools.cycle(('dashed', 'solid')) \n",
    "plt.clf()\n",
    "time = np.arange(0, 11, 1) \n",
    "rates = np.arange(0.0, 0.11, 0.01) \n",
    "plt.xlabel('Time (y)')\n",
    "plt.ylabel('How Much I Owe ($)')\n",
    "plt.title('Compound Interest Amount Owed Over Time')\n",
    "for rate in rates:\n",
    "    plt.plot(time, F_compound(P,rate,time), label=rate, marker=next(marker), linestyle=next(line))\n",
    "plt.legend(loc=2)\n",
    "plt.show()"
   ]
  },
  {
   "cell_type": "markdown",
   "metadata": {
    "deletable": true,
    "editable": true
   },
   "source": [
    "## Discounting\n",
    "\n",
    "Our examples have shown the growth in an investment due to interest earned. \n",
    "Compounding is a way to move money from the present to the future. \n",
    "What about going the other way in time, that is, **what is the value of the \n",
    "promise of some future amount worth today?** The answer is provided by the \n",
    "_inverse_ of compounding, **discounting**.\n",
    "\n",
    "$$F=\\mbox{Future value}$$\n",
    "$$P=\\mbox{Present value}$$\n",
    "$$N=\\mbox{Number of periods}$$\n",
    "$$i=\\mbox{Investment rate per period}$$\n",
    "\n",
    "Recall that F, as a function of P, is :\n",
    "\n",
    "$$F = P(1+i)^N$$\n",
    "\n",
    "Solving this for P, as a function of F, we get:\n",
    "\n",
    "$$P = \\frac{F}{(1+i)^N}$$\n"
   ]
  },
  {
   "cell_type": "code",
   "execution_count": 63,
   "metadata": {
    "collapsed": true,
    "deletable": true,
    "editable": true
   },
   "outputs": [],
   "source": [
    "def P_compound(F, i, N):\n",
    "    \"\"\"The present value, as a function of future value, for compounding interest\"\"\"\n",
    "    return F/pow((1+i),N)"
   ]
  },
  {
   "cell_type": "code",
   "execution_count": 64,
   "metadata": {
    "collapsed": false,
    "deletable": true,
    "editable": true
   },
   "outputs": [
    {
     "name": "stdout",
     "output_type": "stream",
     "text": [
      "If you invest 38.55432894295314 today at an investment rate of 10.0%, it will be worth $100 in 10 years.\n"
     ]
    }
   ],
   "source": [
    "# example\n",
    "F=100  # I promise you $100\n",
    "i=0.10 # at 10 percent investment per period\n",
    "N=10   # but you have to wait 10 periods before I give it to you\n",
    "\n",
    "print(\"If you invest \" + \n",
    "      str(P_compound(F, i, N)) + \" today at an investment rate of \" + str(i*100) +\n",
    "      \"%, it will be worth $\" + str(F) +\n",
    "      \" in \" + str(N) + \" years.\")\n"
   ]
  },
  {
   "cell_type": "code",
   "execution_count": 65,
   "metadata": {
    "collapsed": false,
    "deletable": true,
    "editable": true
   },
   "outputs": [
    {
     "name": "stdout",
     "output_type": "stream",
     "text": [
      "10.0  =  10\n",
      "100.0  =  100\n",
      "1000.0  =  1000\n"
     ]
    }
   ],
   "source": [
    "# Exercise... Show that P_compound is truly the inverse of F_compound\n",
    "i = 0.1\n",
    "N = 10\n",
    "test_values = [10, 100, 1000]\n",
    "\n",
    "for f_test in test_values:\n",
    "    P = P_compound(f_test,i,N)\n",
    "    obs = F_compound(P, i, N)\n",
    "    assert(obs == f_test)\n",
    "    print(obs,\" = \",f_test)"
   ]
  },
  {
   "cell_type": "markdown",
   "metadata": {
    "deletable": true,
    "editable": true
   },
   "source": [
    "# Inflation\n",
    "\n",
    "Inflation is the tendency for prices to continuously rise. Conversely, it is the continuous fall in the value of currency (like the dollar).\n",
    "\n",
    "**Example:** What has happened to the value of the dollar since you entered college (4 yrs)? To answer this, we need inflation rates for 2013‐2016:\n",
    "\n",
    " - 2013: 1.5%\n",
    " - 2014: 1.6%\n",
    " - 2015: 0.1% \n",
    " - 2016: 1.0%\n",
    " \n",
    "$$F = \\mbox{buying power today}$$\n",
    "$$P = \\mbox{one dollar in your first year of college}$$\n",
    "$$i_n = \\mbox{inflation rate in year n.}$$\n",
    "$$F_{n} = P_n(1 +i_{n})$$\n",
    "$$F_{n} = P_{n+1}$$\n",
    "\n",
    "$$F_{2016} = P_{2016}(1 + i_{2016})$$\n",
    "$$F_{2015} = P_{2015}(1 + i_{2015})$$\n",
    "$$F_{2014} = P_{2014}(1 + i_{2014})$$\n",
    "$$F_{2013} = P_{2013}(1 + i_{2013})$$\n",
    "\n",
    "Combined:\n",
    "\n",
    "$$F_{2016} = P_{2013}(1 + i_{2013})(1 + i_{2014})(1 + i_{2015})(1 + i_{2016})$$\n"
   ]
  },
  {
   "cell_type": "code",
   "execution_count": 15,
   "metadata": {
    "collapsed": false,
    "deletable": true,
    "editable": true
   },
   "outputs": [
    {
     "name": "stdout",
     "output_type": "stream",
     "text": [
      "1.0425939523999999\n"
     ]
    }
   ],
   "source": [
    "def F_infl(P, infl):\n",
    "    \"\"\"The future value of money, due to one year of inflation at rate infl\"\"\"\n",
    "    return P*(1+infl)\n",
    "\n",
    "import collections\n",
    "year_infl = collections.OrderedDict()\n",
    "#year_infl[2011] = 0.03\n",
    "#year_infl[2012] = 0.017\n",
    "year_infl[2013] = 0.015\n",
    "year_infl[2014] = 0.016\n",
    "year_infl[2015] = 0.001\n",
    "year_infl[2016] = 0.01\n",
    "\n",
    "P = {2013:1}\n",
    "F = {}\n",
    "for year, infl in year_infl.items():\n",
    "    P[year+1] = F_infl(P[year], infl)\n",
    "    F[year] = P[year+1]\n",
    "    \n",
    "print(F[2016])\n",
    "    "
   ]
  },
  {
   "cell_type": "markdown",
   "metadata": {
    "deletable": true,
    "editable": true
   },
   "source": [
    "### Inflation adjusted interest rate\n",
    "\n",
    "To adjust your interest rate for the existence of inflation, \n",
    "\n",
    "$$i^* = \\frac{(1+i)}{(1+r)} - 1$$\n",
    "$$i^* = \\mbox{interest rate adjusted for inflation}$$\n",
    "$$r = \\mbox{rate of inflation}$$\n",
    "$$i = \\mbox{nominal interest rate}$$\n"
   ]
  },
  {
   "cell_type": "markdown",
   "metadata": {
    "deletable": true,
    "editable": true
   },
   "source": [
    "## MARR – minimum acceptable rate of return\n",
    "\n",
    "- You know F and N and are asking for a value of P. But what is the value of i? As an investor you must specify the rate of return that you require.\n",
    "- We call the interest rate in the computation the minimal acceptable rate of return, MARR\n",
    "\n",
    "MARR depends on many things; how much capital is available, how much is needed, etc.\n",
    "- For an individual, it should be at least what could be earned elsewhere.\n",
    "- For someone with debt, it should be at least the interest charged by the lender.\n",
    "\n",
    "Let’s say you are a student with a credit card debt charging 1.5% per month on the outstanding balance. That is roughly 18% per year. Your friend Feynman wants to borrow some money. Feynman will give you $100 in one year. How much should you be willing to loan him?"
   ]
  },
  {
   "cell_type": "code",
   "execution_count": 16,
   "metadata": {
    "collapsed": false,
    "deletable": true,
    "editable": true
   },
   "outputs": [
    {
     "name": "stdout",
     "output_type": "stream",
     "text": [
      "84.74576271186442\n"
     ]
    }
   ],
   "source": [
    "F=100\n",
    "N=1\n",
    "i = 0.18\n",
    "P = P_compound(F, i, N)\n",
    "print(P)"
   ]
  },
  {
   "cell_type": "markdown",
   "metadata": {
    "deletable": true,
    "editable": true
   },
   "source": [
    "If your MARR is greater than 18%, the amount you should be willing to give should be less than P. If your MARR is less Than 18%, you could give more."
   ]
  },
  {
   "cell_type": "markdown",
   "metadata": {
    "deletable": true,
    "editable": true
   },
   "source": [
    "### Exercise: Formulate an equation for $i_{MARR}$\n",
    "To get $i_{MARR}$ as a function of P and F, you must solve $F_{compound}$ for i.\n",
    "\n",
    "\n",
    "In the following markdown cell, replace the question marks with the appropriate equation:\n"
   ]
  },
  {
   "cell_type": "markdown",
   "metadata": {
    "deletable": true,
    "editable": true
   },
   "source": [
    "$$i_{MARR} = \\left(\\frac{F}{P}\\right)^\\frac{1}{n}-1$$"
   ]
  },
  {
   "cell_type": "markdown",
   "metadata": {
    "deletable": true,
    "editable": true
   },
   "source": [
    "### Excercise: Write the $i_{MARR}$ equation as a python function\n",
    "\n",
    "In the following python cell, fill in the function:"
   ]
  },
  {
   "cell_type": "code",
   "execution_count": 17,
   "metadata": {
    "collapsed": true,
    "deletable": true,
    "editable": true
   },
   "outputs": [],
   "source": [
    "def i_MARR(F, P, N):\n",
    "    \"\"\"The $i_{MARR}$ as a function of future value, present value, \n",
    "    and period, for compounding interest\n",
    "    \"\"\"\n",
    "    return pow(F/P, 1/N) - 1 \n"
   ]
  },
  {
   "cell_type": "code",
   "execution_count": 18,
   "metadata": {
    "collapsed": false,
    "deletable": true,
    "editable": true
   },
   "outputs": [
    {
     "name": "stdout",
     "output_type": "stream",
     "text": [
      "0.018769265121506118\n"
     ]
    }
   ],
   "source": [
    "F = 100\n",
    "P = 80\n",
    "N = 12\n",
    "print(i_MARR(F,P,N))"
   ]
  },
  {
   "cell_type": "markdown",
   "metadata": {
    "deletable": true,
    "editable": true
   },
   "source": [
    "## What about borrowing money?\n",
    "\n",
    "Sometimes, the rate at which we make payments is different than the period over which the rate is quoted and compounded. For a car loan, for example, the compounding period is annual, but you make monthly payments for some $m$ months.\n",
    "\n",
    "$$F = \\frac{m}{12}\\left(\\frac{Pi}{1-(1+i/12)^{-m}}\\right)$$\n"
   ]
  },
  {
   "cell_type": "code",
   "execution_count": 19,
   "metadata": {
    "collapsed": true,
    "deletable": true,
    "editable": true
   },
   "outputs": [],
   "source": [
    "def F_monthly(P, i, m):\n",
    "    F = (m/12)*(P*i)/(1 - pow(1+i/12,-m))\n",
    "    print(\"Total: \",F)\n",
    "    print(\"Monthly payment: \", F/m)\n",
    "    print(\"Interest paid: \", F-P)\n",
    "    return F\n",
    "\n",
    "    "
   ]
  },
  {
   "cell_type": "markdown",
   "metadata": {
    "deletable": true,
    "editable": true
   },
   "source": [
    "### Example : Car Loan\n",
    "\n",
    "- Let’s use an example of a $20,000 loan so you can buy a car.\n",
    "- The current interest rate is 4% on a 60 month loan."
   ]
  },
  {
   "cell_type": "code",
   "execution_count": 20,
   "metadata": {
    "collapsed": false,
    "deletable": true,
    "editable": true
   },
   "outputs": [
    {
     "name": "stdout",
     "output_type": "stream",
     "text": [
      "Total:  22099.826466319162\n",
      "Monthly payment:  368.3304411053194\n",
      "Interest paid:  2099.826466319162\n"
     ]
    }
   ],
   "source": [
    "# How much do you pay per month?\n",
    "# Over the course of the 60 months, how much interest have you paid?\n",
    "\n",
    "m=60\n",
    "i=0.04\n",
    "P=20000.0\n",
    "    \n",
    "F = F_monthly(P, i, m)\n",
    "\n"
   ]
  },
  {
   "cell_type": "markdown",
   "metadata": {
    "deletable": true,
    "editable": true
   },
   "source": [
    "### Example : Home Loan\n",
    "\n",
    "Now lets look longer term. It's time to buy a house. The average price of a home sold in the US in June 2014 was $331,000$. Let's say you get a 15 year fixed rate mortgage at 3.25%. "
   ]
  },
  {
   "cell_type": "code",
   "execution_count": 21,
   "metadata": {
    "collapsed": false,
    "deletable": true,
    "editable": true
   },
   "outputs": [
    {
     "name": "stdout",
     "output_type": "stream",
     "text": [
      "Total:  418650.05252246873\n",
      "Monthly payment:  2325.833625124826\n",
      "Interest paid:  87650.05252246873\n"
     ]
    }
   ],
   "source": [
    "N=15\n",
    "m=15*12\n",
    "i=0.0325\n",
    "P=331000.\n",
    "\n",
    "F = F_monthly(P, i, m)"
   ]
  },
  {
   "cell_type": "code",
   "execution_count": 22,
   "metadata": {
    "collapsed": false,
    "deletable": true,
    "editable": true
   },
   "outputs": [
    {
     "name": "stdout",
     "output_type": "stream",
     "text": [
      "Total:  459927.37242514914\n",
      "Monthly payment:  2555.152069028606\n",
      "Interest paid:  89927.37242514914\n"
     ]
    }
   ],
   "source": [
    "N=15\n",
    "m=15*12\n",
    "i=0.030\n",
    "P=370000.\n",
    "\n",
    "F = F_monthly(P, i, m)"
   ]
  },
  {
   "cell_type": "code",
   "execution_count": 23,
   "metadata": {
    "collapsed": false,
    "deletable": true,
    "editable": true
   },
   "outputs": [
    {
     "name": "stdout",
     "output_type": "stream",
     "text": [
      "Total:  580157.5052880454\n",
      "Monthly payment:  3223.097251600252\n",
      "Interest paid:  210157.5052880454\n"
     ]
    }
   ],
   "source": [
    "# what about at 6.5 percent?\n",
    "i=0.065\n",
    "\n",
    "F = F_monthly(P, i, m)\n"
   ]
  },
  {
   "cell_type": "code",
   "execution_count": 24,
   "metadata": {
    "collapsed": false,
    "deletable": true,
    "editable": true
   },
   "outputs": [
    {
     "name": "stdout",
     "output_type": "stream",
     "text": [
      "Total:  579694.8170044136\n",
      "Monthly payment:  1610.2633805678156\n",
      "Interest paid:  209694.81700441358\n"
     ]
    }
   ],
   "source": [
    "# Same house, $331,000, 30 yr fixed rate 4.25%\n",
    "N=30\n",
    "m=N*12\n",
    "i=0.0325\n",
    "\n",
    "F = F_monthly(P, i, m)"
   ]
  },
  {
   "cell_type": "code",
   "execution_count": 25,
   "metadata": {
    "collapsed": false,
    "deletable": true,
    "editable": true
   },
   "outputs": [
    {
     "name": "stdout",
     "output_type": "stream",
     "text": [
      "Total:  841914.6072926298\n",
      "Monthly payment:  2338.6516869239717\n",
      "Interest paid:  471914.6072926298\n"
     ]
    }
   ],
   "source": [
    "# How about at 6.5% interest? \n",
    "i=0.065\n",
    "\n",
    "F = F_monthly(P, i, m)"
   ]
  },
  {
   "cell_type": "markdown",
   "metadata": {
    "collapsed": true,
    "deletable": true,
    "editable": true
   },
   "source": [
    "### Exercise: Paying down the principal\n",
    "\n",
    "Okay, so, those big banks don't need all your money. It would be great to take their nice low interest rate and pay off the principal as quickly as possible so you aren't paying interest on top of quite so much interest. In buying houses, sometimes a bank won't even charge a fee for paying off your loan faster than intended. Can you derive a formula for how much this kind of behavior will save you? In the case of the mortgate above, let's assume you pay an extra \\$50 a month, every month. How much faster could you pay off your loan? How much money do you save?"
   ]
  },
  {
   "cell_type": "code",
   "execution_count": 26,
   "metadata": {
    "collapsed": false,
    "deletable": true,
    "editable": true
   },
   "outputs": [
    {
     "name": "stdout",
     "output_type": "stream",
     "text": [
      "Total:  922408.5588617278\n",
      "Monthly payment:  2249.7769728334824\n",
      "Interest paid:  552408.5588617278\n"
     ]
    }
   ],
   "source": [
    "# do your calculations here\n"
   ]
  },
  {
   "cell_type": "markdown",
   "metadata": {
    "deletable": true,
    "editable": true
   },
   "source": [
    "## Annuities\n",
    "\n",
    "Annuities: a series of equal dollar payments coming at the end of a certain time period for a specified number of time periods (n). Examples include mortgages, life insurance benefits, lottery payments, retirement payments.\n",
    "\n",
    "### Compound annuities\n",
    "\n",
    "Compound Annuities: depositing an equal sum of money at the end of each time period for a certain number of periods and allowing the money to grow. An example might be having $\\$50$ taken out of each paycheck and put in a Christmas account earning a $9\\%$ Annual Percentage Rate.\n",
    "\n",
    "### Future value of an annuity (FVA) equation\n",
    "\n",
    "This equation is used to determine the future value of a stream of deposits/payments (PMT) invested at a specific interest rate (i), for a specific number of periods (n). For example, the future value of your 401k contributions can be calculated using this equation:\n",
    "\n",
    "$$\n",
    "\\begin{align}\n",
    "FVA &= PMT\\left(\\frac{(1 + i)^n – 1}{i}\\right)\\\\\n",
    "FVA &= \\mbox{the future value, in today’s dollars, of a sum of\n",
    "money}\\\\\n",
    "PMT &= \\mbox{the payment made at the end of each time period}\\\\\n",
    "i &= \\mbox{interest rate}\\\\\n",
    "n &= \\mbox{number of periods}\n",
    "\\end{align}\n",
    "$$\n"
   ]
  },
  {
   "cell_type": "code",
   "execution_count": 27,
   "metadata": {
    "collapsed": true,
    "deletable": true,
    "editable": true
   },
   "outputs": [],
   "source": [
    "def fva(pmt, i, n):\n",
    "    \"\"\"the future value, in today’s dollars, of a sum of money\n",
    "    :param pmt: the payment made at the end of each time period\n",
    "    :param i: interest rate\n",
    "    :param n: number of periods\n",
    "    \"\"\"\n",
    "    num = pmt*(pow((1+i),n) - 1)\n",
    "    return num/i"
   ]
  },
  {
   "cell_type": "markdown",
   "metadata": {
    "deletable": true,
    "editable": true
   },
   "source": [
    "### Exercise\n",
    "Assuming a $2000 annual contribution with a 9% rate of return, how much will an IRA be worth in 30 years?\n",
    "\n",
    "\n",
    "$$\n",
    "\\begin{align}\n",
    "FVA &= PMT\\left(\\frac{(1 + i)^n – 1}{i}\\right)\\\\\n",
    "\\end{align}\n",
    "$$"
   ]
  },
  {
   "cell_type": "code",
   "execution_count": 29,
   "metadata": {
    "collapsed": false,
    "deletable": true,
    "editable": true
   },
   "outputs": [
    {
     "name": "stdout",
     "output_type": "stream",
     "text": [
      "112169.87550137707\n"
     ]
    }
   ],
   "source": [
    "# Assuming a $2000 annual contribution \n",
    "pmt = 2000\n",
    "# with a 9% rate of return, \n",
    "i=0.04\n",
    "# how much will an IRA be worth in 30 years?\n",
    "n=30\n",
    "ira_val = fva(pmt, i, n)\n",
    "print(ira_val)\n"
   ]
  },
  {
   "cell_type": "markdown",
   "metadata": {
    "deletable": true,
    "editable": true
   },
   "source": [
    "### Exercise : Anna's savings\n",
    "Each month, Anna deposits her paycheck ($5,000) in an account offering a monthly interest rate of 6%. How much will Anna have in her account at the end of 1 year?\n",
    "\n",
    "\n",
    "$$\n",
    "\\begin{align}\n",
    "FVA &= PMT\\left(\\frac{(1 + i)^n – 1}{i}\\right)\\\\\n",
    "\\end{align}\n",
    "$$"
   ]
  },
  {
   "cell_type": "code",
   "execution_count": 30,
   "metadata": {
    "collapsed": false,
    "deletable": true,
    "editable": true
   },
   "outputs": [
    {
     "name": "stdout",
     "output_type": "stream",
     "text": [
      "84349.70598629594\n"
     ]
    }
   ],
   "source": [
    "# Assuming a $5000 monthly contribution \n",
    "pmt=5000\n",
    "\n",
    "# with a 6% monthly rate of return, \n",
    "i = 0.06\n",
    "\n",
    "# how much will her account have in it in 1 year?\n",
    "n=12\n",
    "\n",
    "ira_val = fva(pmt, i, n)\n",
    "print(ira_val)"
   ]
  },
  {
   "cell_type": "markdown",
   "metadata": {
    "deletable": true,
    "editable": true
   },
   "source": [
    "### Exercise : Startup savings\n",
    "\n",
    "- If a garage startup deposits $1,200 each year into a savings account earning an Annual Rate of return of 2% for 15 years, how much will the startup have at the end of the 15 years?\n",
    "\n",
    "\n",
    "$$\n",
    "\\begin{align}\n",
    "FVA &= PMT\\left(\\frac{(1 + i)^n – 1}{i}\\right)\\\\\n",
    "\\end{align}\n",
    "$$"
   ]
  },
  {
   "cell_type": "code",
   "execution_count": 31,
   "metadata": {
    "collapsed": false,
    "deletable": true,
    "editable": true
   },
   "outputs": [
    {
     "name": "stdout",
     "output_type": "stream",
     "text": [
      "20752.100299447793\n"
     ]
    }
   ],
   "source": [
    "# Assuming a $1200 yearly contribution \n",
    "pmt = 1200\n",
    "\n",
    "# with a 2% annual rate of return, \n",
    "i = 0.02\n",
    "\n",
    "# how much will the account have in it in 15 years?\n",
    "n =15\n",
    "\n",
    "ira_val = fva(pmt, i, n)\n",
    "print(ira_val)"
   ]
  },
  {
   "cell_type": "markdown",
   "metadata": {
    "deletable": true,
    "editable": true
   },
   "source": [
    "- How much will the startup have if it deposits $1,200 each **month**? \n",
    "\n",
    "\n",
    "$$\n",
    "\\begin{align}\n",
    "FVA &= PMT\\left(\\frac{(1 + i)^n – 1}{i}\\right)\\\\\n",
    "\\end{align}\n",
    "$$"
   ]
  },
  {
   "cell_type": "code",
   "execution_count": 33,
   "metadata": {
    "collapsed": false,
    "deletable": true,
    "editable": true
   },
   "outputs": [
    {
     "name": "stdout",
     "output_type": "stream",
     "text": [
      "251655.66680604088\n"
     ]
    }
   ],
   "source": [
    "# Assuming a $1200 monthly contribution \n",
    "pmt = 1200\n",
    "# with a 2% annual rate of return, \n",
    "i = 0.02/12\n",
    "# how much will the account have in it in 15 years?\n",
    "n=15*12\n",
    "\n",
    "ira_val = fva(pmt, i, n)\n",
    "print(ira_val)"
   ]
  },
  {
   "cell_type": "markdown",
   "metadata": {
    "deletable": true,
    "editable": true
   },
   "source": [
    "- How much will the garage have if they **earn 2% interest monthly**?"
   ]
  },
  {
   "cell_type": "code",
   "execution_count": 34,
   "metadata": {
    "collapsed": false,
    "deletable": true,
    "editable": true
   },
   "outputs": [
    {
     "name": "stdout",
     "output_type": "stream",
     "text": [
      "2059249.8814193557\n"
     ]
    }
   ],
   "source": [
    "# Assuming a $1200 monthly contribution \n",
    "pmt=1200\n",
    "# with a 2% monthly rate of return, \n",
    "i = 0.02\n",
    "# how much will the account have in it in 15 years?\n",
    "n=15*12\n",
    "\n",
    "ira_val = fva(pmt, i, n)\n",
    "print(ira_val)"
   ]
  },
  {
   "cell_type": "markdown",
   "metadata": {
    "deletable": true,
    "editable": true
   },
   "source": [
    "This example demonstrates why you should exercise extreme caution with these equations to make double sure your time frames are consistent.\n",
    "\n",
    "- If the payment is a monthly payment; then the compounding rate of return has to be a monthly rate of return.\n",
    "- Example: A 15% ANNUAL rate of return is equal to a monthly rate of return of 1.25% (because 15/12 = 1.25)"
   ]
  },
  {
   "cell_type": "markdown",
   "metadata": {
    "deletable": true,
    "editable": true
   },
   "source": [
    "### Present value of an annuity (PVA) equation\n",
    "\n",
    "This equation is used to determine the present value of a future stream of payments, such as your pension fund or insurance benefits.\n",
    "\n",
    "$$\n",
    "\\begin{align}\n",
    "PVA &=PMT\\frac{1–(1+i)^{-n}}{i}\\\\\n",
    "PVA &= \\mbox{the present value, in today’s dollars, of a sum of money}\\\\\n",
    "PMT &= \\mbox{the payment to be made at the end of each time period}\\\\\n",
    "i &= \\mbox{interest rate}\\\\\n",
    "n &= \\mbox{number of periods}\n",
    "\\end{align}\n",
    "$$"
   ]
  },
  {
   "cell_type": "code",
   "execution_count": 35,
   "metadata": {
    "collapsed": true,
    "deletable": true,
    "editable": true
   },
   "outputs": [],
   "source": [
    "def pva(pmt, i, n):\n",
    "    \"\"\"the present value, in today’s dollars, of a sum of money\n",
    "    :param PMT: the payment to be made at the end of each time period\n",
    "    :param i: interest rate\n",
    "    :param n: number of periods\n",
    "    \"\"\"\n",
    "    num =1 - pow((1+i),-n) \n",
    "    return (pmt/i)*num"
   ]
  },
  {
   "cell_type": "markdown",
   "metadata": {
    "deletable": true,
    "editable": true
   },
   "source": [
    "### Exercise: Retirement Payout\n",
    "What is the present value of 25 annual payments of $50,000 offered to a retiring employee, assuming a 5% annual discount rate? (PVA is the only unknown)"
   ]
  },
  {
   "cell_type": "code",
   "execution_count": 44,
   "metadata": {
    "collapsed": false,
    "deletable": true,
    "editable": true
   },
   "outputs": [
    {
     "data": {
      "text/plain": [
       "704697.2283022382"
      ]
     },
     "execution_count": 44,
     "metadata": {},
     "output_type": "execute_result"
    }
   ],
   "source": [
    "pva(5e4, 0.05, 25)"
   ]
  },
  {
   "cell_type": "code",
   "execution_count": 45,
   "metadata": {
    "collapsed": false,
    "deletable": true,
    "editable": true
   },
   "outputs": [
    {
     "data": {
      "text/plain": [
       "1250000.0"
      ]
     },
     "execution_count": 45,
     "metadata": {},
     "output_type": "execute_result"
    }
   ],
   "source": [
    "5e4*25"
   ]
  },
  {
   "cell_type": "markdown",
   "metadata": {
    "deletable": true,
    "editable": true
   },
   "source": [
    "**Warning!!**\n",
    "Don't use the wrong equation! The difference between future value and present value is massive. The same inputs to the fva equation is a much larger number!"
   ]
  },
  {
   "cell_type": "code",
   "execution_count": 42,
   "metadata": {
    "collapsed": false,
    "deletable": true,
    "editable": true
   },
   "outputs": [
    {
     "data": {
      "text/plain": [
       "2386354.9408993884"
      ]
     },
     "execution_count": 42,
     "metadata": {},
     "output_type": "execute_result"
    }
   ],
   "source": [
    "fva(5e4, 0.05, 25)"
   ]
  },
  {
   "cell_type": "markdown",
   "metadata": {
    "deletable": true,
    "editable": true
   },
   "source": [
    "We can solve the PVA equation to give a solution for the payment itself in terms of the present value. \n",
    "\n",
    "$$\n",
    "\\begin{align}\n",
    "PMT &=\\frac{1}{PVA}\\frac{1–(1+i)^{-n}}{i}\n",
    "\\end{align}\n",
    "$$\n",
    "\n",
    "\n",
    "With this equation, for example, one can determine what size payment one needs to make. What are the annual payments to repay $\\$6,000$ at $5\\%$ APR interest? (the payment is the unknown)"
   ]
  },
  {
   "cell_type": "code",
   "execution_count": 46,
   "metadata": {
    "collapsed": false,
    "deletable": true,
    "editable": true
   },
   "outputs": [],
   "source": [
    "def pmt(pva, i, n):\n",
    "    return pva*i/((1-pow((1+i), -n)))"
   ]
  },
  {
   "cell_type": "code",
   "execution_count": 49,
   "metadata": {
    "collapsed": false,
    "deletable": true,
    "editable": true
   },
   "outputs": [
    {
     "name": "stdout",
     "output_type": "stream",
     "text": [
      "3226.829268292681\n"
     ]
    }
   ],
   "source": [
    "pva = 6000\n",
    "i = 0.05\n",
    "n = 2\n",
    "print(pmt(pva,i,n))"
   ]
  },
  {
   "cell_type": "markdown",
   "metadata": {
    "deletable": true,
    "editable": true
   },
   "source": [
    "## Bonds\n",
    "\n",
    "A bond is a type of security instrument used to raise capital by an issuing party (an issuer). \n",
    "\n",
    "They have the following characteristics : \n",
    "- A **principal** amount to be repaid on a specific date in the future.\n",
    "- The principal amount is also known as the face value or par value\n",
    "- The payment date is known as the maturity date\n",
    "- Many bonds have regular coupon payments which are paid-out annually, semi-annually or quarterly.\n",
    "- The coupon rate is the interest rate used to calculate the coupon payment and is a percentage of the principal amount\n",
    "- Coupon Payment = Coupon Rate x Principal\n",
    "- A bond is a **legal debt obligation**. Failure to make payments as required can result in legal recourse by the holders of the bonds. \n",
    "- A bond may be **callable** by the issuer. That is, after some specified amount of time or some specified event, the issuer can purchase the bonds back from the market. Typically the issuer will have to pay some type of penalty for this early re-call.\n",
    "    - \n",
    "- **Issuer:** the entity that has promised payment\n",
    "  - The issuance of bonds is known as a **bond offering**\n",
    "  - The issuer may offer thousands or millions of bonds in the single offering.\n",
    "- **Holder** - the party who currently has possession of the bond\n",
    "  - The holding party receives the payments from the issuer\n",
    "  - Often, the holding party can freely sell the bond to a third-party and all rights will transfer\n",
    "- Effectively, a bond is a loan.\n",
    "- When issued, some bonds simply sell for their face value.\n",
    "- In this case,the company would convey the bond to the buyer in exchange for receiving $\\$1,000$.\n",
    "- Assuming the buyer (now the holder) holds the bond to maturity, they will receive 5 annual payments of $\\$50$ and a final payment of $\\$1,000$ after 5 years.\n",
    "- In other words, the buyer receives annual interest payments and finally the return of his principal."
   ]
  },
  {
   "cell_type": "markdown",
   "metadata": {
    "deletable": true,
    "editable": true
   },
   "source": [
    "### Bonds: example\n",
    " \n",
    "A company wants to raise money for a new project and decides to do so by issuing bonds\n",
    "- Principal is $\\$1,000$\n",
    "- Maturity Date is 5 years from issuance\n",
    "- Coupon Rate is 5%\n",
    "- Coupon Payments are made annually at end of year\n",
    "- Coupon Payment is (Principal x Coupon Rate) = $1000 \\times 5\\% = \\$50$"
   ]
  },
  {
   "cell_type": "code",
   "execution_count": 50,
   "metadata": {
    "collapsed": true,
    "deletable": true,
    "editable": true
   },
   "outputs": [],
   "source": [
    "def coupon_pmt(principal, coupon_rate):\n",
    "    return principal*coupon_rate"
   ]
  },
  {
   "cell_type": "code",
   "execution_count": 51,
   "metadata": {
    "collapsed": false,
    "deletable": true,
    "editable": true
   },
   "outputs": [
    {
     "name": "stdout",
     "output_type": "stream",
     "text": [
      "[[    0.]\n",
      " [   50.]\n",
      " [   50.]\n",
      " [   50.]\n",
      " [   50.]\n",
      " [ 1050.]]\n"
     ]
    }
   ],
   "source": [
    "\n",
    "from pandas import DataFrame as df\n",
    "    \n",
    "def payout(principal, mat_date, coupon_rate, year):\n",
    "    pay = 0\n",
    "    if 0 < year <= mat_date:\n",
    "        pay = coupon_pmt(principal, coupon_rate)\n",
    "        if year == mat_date:\n",
    "            pay += principal\n",
    "    return pay\n",
    "\n",
    "def payouts(principal, mat_date, coupon_rate):\n",
    "    y = 0\n",
    "    pay = np.zeros((mat_date+1, 1))\n",
    "    while y <= mat_date :\n",
    "        pay[y] = payout(principal, mat_date, coupon_rate, y)\n",
    "        y+=1\n",
    "    return pay\n",
    "\n",
    "i = 0.05\n",
    "coupon_rate = 0.05\n",
    "principal = 1000\n",
    "mat_date = 5\n",
    "pay = payouts(1000, 5, 0.05)\n",
    "print(pay)"
   ]
  },
  {
   "cell_type": "markdown",
   "metadata": {
    "deletable": true,
    "editable": true
   },
   "source": [
    "### Bonds: Valuation\n",
    "- Some bonds are issued at a price equal to their face value.\n",
    "- Many bonds, however, are issued at a price higher or lower than their face value.\n",
    "- Ultimately, the market (i.e. supply and demand) determines a bond’s price. Sometimes it is willing to pay more than face value, other times less.\n",
    "\n",
    "\n",
    "**Discussion** Why? What drives this? Can you explain this with what we've learned already?\n",
    "\n",
    "\n"
   ]
  },
  {
   "cell_type": "markdown",
   "metadata": {
    "collapsed": true,
    "deletable": true,
    "editable": true
   },
   "source": [
    "## Bonds: Present Value Interest Factor\n",
    "\n",
    "The Present Value Interest Factor reflects the impact of the time value of money on this investment. Money now is worth more than money later. \n",
    "\n",
    "$$\n",
    "PVIF = (1 + i)^{-n}  \n",
    "$$\n",
    "\n",
    "The Present Value (P), is then:\n",
    "\n",
    "$$\n",
    "P = F(1+i)^{-n}\n",
    "$$\n",
    "\n",
    "Look familiar? This is just the discounting equation we have already seen. \n"
   ]
  },
  {
   "cell_type": "code",
   "execution_count": 56,
   "metadata": {
    "collapsed": false,
    "deletable": true,
    "editable": true
   },
   "outputs": [
    {
     "name": "stdout",
     "output_type": "stream",
     "text": [
      "   year  payout\n",
      "0     0     0.0\n",
      "1     1    50.0\n",
      "2     2    50.0\n",
      "3     3    50.0\n",
      "4     4    50.0\n",
      "5     5  1050.0\n"
     ]
    }
   ],
   "source": [
    "import pandas as pd\n",
    "bv = pd.DataFrame() # This is a data structure to hold our bond valuation information\n",
    "\n",
    "i = 0.05\n",
    "coupon_rate = 0.05\n",
    "principal = 1000\n",
    "mat_date = 5\n",
    "\n",
    "bv['year'] = range(0, mat_date+1)\n",
    "bv['payout'] = [payout(principal, mat_date, coupon_rate, y) for y in bv['year']]\n",
    "print(bv)"
   ]
  },
  {
   "cell_type": "code",
   "execution_count": 57,
   "metadata": {
    "collapsed": false,
    "deletable": true,
    "editable": true
   },
   "outputs": [
    {
     "name": "stdout",
     "output_type": "stream",
     "text": [
      "   year  payout      pvif\n",
      "0     0     0.0  1.000000\n",
      "1     1    50.0  0.952381\n",
      "2     2    50.0  0.907029\n",
      "3     3    50.0  0.863838\n",
      "4     4    50.0  0.822702\n",
      "5     5  1050.0  0.783526\n"
     ]
    }
   ],
   "source": [
    "bv['pvif'] = [pow(1+i, -y) for y in bv['year']]     \n",
    "print(bv)                "
   ]
  },
  {
   "cell_type": "code",
   "execution_count": 58,
   "metadata": {
    "collapsed": false,
    "deletable": true,
    "editable": true
   },
   "outputs": [
    {
     "name": "stdout",
     "output_type": "stream",
     "text": [
      "   year  payout      pvif           p\n",
      "0     0     0.0  1.000000    0.000000\n",
      "1     1    50.0  0.952381   47.619048\n",
      "2     2    50.0  0.907029   45.351474\n",
      "3     3    50.0  0.863838   43.191880\n",
      "4     4    50.0  0.822702   41.135124\n",
      "5     5  1050.0  0.783526  822.702475\n"
     ]
    }
   ],
   "source": [
    "bv['p'] = bv['payout']*bv['pvif']\n",
    "print(bv)"
   ]
  },
  {
   "cell_type": "code",
   "execution_count": 59,
   "metadata": {
    "collapsed": false,
    "deletable": true,
    "editable": true
   },
   "outputs": [
    {
     "data": {
      "text/plain": [
       "0       0.000000\n",
       "1      47.619048\n",
       "2      92.970522\n",
       "3     136.162401\n",
       "4     177.297525\n",
       "5    1000.000000\n",
       "Name: p, dtype: float64"
      ]
     },
     "execution_count": 59,
     "metadata": {},
     "output_type": "execute_result"
    }
   ],
   "source": [
    "bv['p'].cumsum()"
   ]
  },
  {
   "cell_type": "code",
   "execution_count": 60,
   "metadata": {
    "collapsed": false,
    "deletable": true,
    "editable": true
   },
   "outputs": [
    {
     "data": {
      "application/javascript": [
       "/* Put everything inside the global mpl namespace */\n",
       "window.mpl = {};\n",
       "\n",
       "mpl.get_websocket_type = function() {\n",
       "    if (typeof(WebSocket) !== 'undefined') {\n",
       "        return WebSocket;\n",
       "    } else if (typeof(MozWebSocket) !== 'undefined') {\n",
       "        return MozWebSocket;\n",
       "    } else {\n",
       "        alert('Your browser does not have WebSocket support.' +\n",
       "              'Please try Chrome, Safari or Firefox ≥ 6. ' +\n",
       "              'Firefox 4 and 5 are also supported but you ' +\n",
       "              'have to enable WebSockets in about:config.');\n",
       "    };\n",
       "}\n",
       "\n",
       "mpl.figure = function(figure_id, websocket, ondownload, parent_element) {\n",
       "    this.id = figure_id;\n",
       "\n",
       "    this.ws = websocket;\n",
       "\n",
       "    this.supports_binary = (this.ws.binaryType != undefined);\n",
       "\n",
       "    if (!this.supports_binary) {\n",
       "        var warnings = document.getElementById(\"mpl-warnings\");\n",
       "        if (warnings) {\n",
       "            warnings.style.display = 'block';\n",
       "            warnings.textContent = (\n",
       "                \"This browser does not support binary websocket messages. \" +\n",
       "                    \"Performance may be slow.\");\n",
       "        }\n",
       "    }\n",
       "\n",
       "    this.imageObj = new Image();\n",
       "\n",
       "    this.context = undefined;\n",
       "    this.message = undefined;\n",
       "    this.canvas = undefined;\n",
       "    this.rubberband_canvas = undefined;\n",
       "    this.rubberband_context = undefined;\n",
       "    this.format_dropdown = undefined;\n",
       "\n",
       "    this.image_mode = 'full';\n",
       "\n",
       "    this.root = $('<div/>');\n",
       "    this._root_extra_style(this.root)\n",
       "    this.root.attr('style', 'display: inline-block');\n",
       "\n",
       "    $(parent_element).append(this.root);\n",
       "\n",
       "    this._init_header(this);\n",
       "    this._init_canvas(this);\n",
       "    this._init_toolbar(this);\n",
       "\n",
       "    var fig = this;\n",
       "\n",
       "    this.waiting = false;\n",
       "\n",
       "    this.ws.onopen =  function () {\n",
       "            fig.send_message(\"supports_binary\", {value: fig.supports_binary});\n",
       "            fig.send_message(\"send_image_mode\", {});\n",
       "            fig.send_message(\"refresh\", {});\n",
       "        }\n",
       "\n",
       "    this.imageObj.onload = function() {\n",
       "            if (fig.image_mode == 'full') {\n",
       "                // Full images could contain transparency (where diff images\n",
       "                // almost always do), so we need to clear the canvas so that\n",
       "                // there is no ghosting.\n",
       "                fig.context.clearRect(0, 0, fig.canvas.width, fig.canvas.height);\n",
       "            }\n",
       "            fig.context.drawImage(fig.imageObj, 0, 0);\n",
       "        };\n",
       "\n",
       "    this.imageObj.onunload = function() {\n",
       "        this.ws.close();\n",
       "    }\n",
       "\n",
       "    this.ws.onmessage = this._make_on_message_function(this);\n",
       "\n",
       "    this.ondownload = ondownload;\n",
       "}\n",
       "\n",
       "mpl.figure.prototype._init_header = function() {\n",
       "    var titlebar = $(\n",
       "        '<div class=\"ui-dialog-titlebar ui-widget-header ui-corner-all ' +\n",
       "        'ui-helper-clearfix\"/>');\n",
       "    var titletext = $(\n",
       "        '<div class=\"ui-dialog-title\" style=\"width: 100%; ' +\n",
       "        'text-align: center; padding: 3px;\"/>');\n",
       "    titlebar.append(titletext)\n",
       "    this.root.append(titlebar);\n",
       "    this.header = titletext[0];\n",
       "}\n",
       "\n",
       "\n",
       "\n",
       "mpl.figure.prototype._canvas_extra_style = function(canvas_div) {\n",
       "\n",
       "}\n",
       "\n",
       "\n",
       "mpl.figure.prototype._root_extra_style = function(canvas_div) {\n",
       "\n",
       "}\n",
       "\n",
       "mpl.figure.prototype._init_canvas = function() {\n",
       "    var fig = this;\n",
       "\n",
       "    var canvas_div = $('<div/>');\n",
       "\n",
       "    canvas_div.attr('style', 'position: relative; clear: both; outline: 0');\n",
       "\n",
       "    function canvas_keyboard_event(event) {\n",
       "        return fig.key_event(event, event['data']);\n",
       "    }\n",
       "\n",
       "    canvas_div.keydown('key_press', canvas_keyboard_event);\n",
       "    canvas_div.keyup('key_release', canvas_keyboard_event);\n",
       "    this.canvas_div = canvas_div\n",
       "    this._canvas_extra_style(canvas_div)\n",
       "    this.root.append(canvas_div);\n",
       "\n",
       "    var canvas = $('<canvas/>');\n",
       "    canvas.addClass('mpl-canvas');\n",
       "    canvas.attr('style', \"left: 0; top: 0; z-index: 0; outline: 0\")\n",
       "\n",
       "    this.canvas = canvas[0];\n",
       "    this.context = canvas[0].getContext(\"2d\");\n",
       "\n",
       "    var rubberband = $('<canvas/>');\n",
       "    rubberband.attr('style', \"position: absolute; left: 0; top: 0; z-index: 1;\")\n",
       "\n",
       "    var pass_mouse_events = true;\n",
       "\n",
       "    canvas_div.resizable({\n",
       "        start: function(event, ui) {\n",
       "            pass_mouse_events = false;\n",
       "        },\n",
       "        resize: function(event, ui) {\n",
       "            fig.request_resize(ui.size.width, ui.size.height);\n",
       "        },\n",
       "        stop: function(event, ui) {\n",
       "            pass_mouse_events = true;\n",
       "            fig.request_resize(ui.size.width, ui.size.height);\n",
       "        },\n",
       "    });\n",
       "\n",
       "    function mouse_event_fn(event) {\n",
       "        if (pass_mouse_events)\n",
       "            return fig.mouse_event(event, event['data']);\n",
       "    }\n",
       "\n",
       "    rubberband.mousedown('button_press', mouse_event_fn);\n",
       "    rubberband.mouseup('button_release', mouse_event_fn);\n",
       "    // Throttle sequential mouse events to 1 every 20ms.\n",
       "    rubberband.mousemove('motion_notify', mouse_event_fn);\n",
       "\n",
       "    rubberband.mouseenter('figure_enter', mouse_event_fn);\n",
       "    rubberband.mouseleave('figure_leave', mouse_event_fn);\n",
       "\n",
       "    canvas_div.on(\"wheel\", function (event) {\n",
       "        event = event.originalEvent;\n",
       "        event['data'] = 'scroll'\n",
       "        if (event.deltaY < 0) {\n",
       "            event.step = 1;\n",
       "        } else {\n",
       "            event.step = -1;\n",
       "        }\n",
       "        mouse_event_fn(event);\n",
       "    });\n",
       "\n",
       "    canvas_div.append(canvas);\n",
       "    canvas_div.append(rubberband);\n",
       "\n",
       "    this.rubberband = rubberband;\n",
       "    this.rubberband_canvas = rubberband[0];\n",
       "    this.rubberband_context = rubberband[0].getContext(\"2d\");\n",
       "    this.rubberband_context.strokeStyle = \"#000000\";\n",
       "\n",
       "    this._resize_canvas = function(width, height) {\n",
       "        // Keep the size of the canvas, canvas container, and rubber band\n",
       "        // canvas in synch.\n",
       "        canvas_div.css('width', width)\n",
       "        canvas_div.css('height', height)\n",
       "\n",
       "        canvas.attr('width', width);\n",
       "        canvas.attr('height', height);\n",
       "\n",
       "        rubberband.attr('width', width);\n",
       "        rubberband.attr('height', height);\n",
       "    }\n",
       "\n",
       "    // Set the figure to an initial 600x600px, this will subsequently be updated\n",
       "    // upon first draw.\n",
       "    this._resize_canvas(600, 600);\n",
       "\n",
       "    // Disable right mouse context menu.\n",
       "    $(this.rubberband_canvas).bind(\"contextmenu\",function(e){\n",
       "        return false;\n",
       "    });\n",
       "\n",
       "    function set_focus () {\n",
       "        canvas.focus();\n",
       "        canvas_div.focus();\n",
       "    }\n",
       "\n",
       "    window.setTimeout(set_focus, 100);\n",
       "}\n",
       "\n",
       "mpl.figure.prototype._init_toolbar = function() {\n",
       "    var fig = this;\n",
       "\n",
       "    var nav_element = $('<div/>')\n",
       "    nav_element.attr('style', 'width: 100%');\n",
       "    this.root.append(nav_element);\n",
       "\n",
       "    // Define a callback function for later on.\n",
       "    function toolbar_event(event) {\n",
       "        return fig.toolbar_button_onclick(event['data']);\n",
       "    }\n",
       "    function toolbar_mouse_event(event) {\n",
       "        return fig.toolbar_button_onmouseover(event['data']);\n",
       "    }\n",
       "\n",
       "    for(var toolbar_ind in mpl.toolbar_items) {\n",
       "        var name = mpl.toolbar_items[toolbar_ind][0];\n",
       "        var tooltip = mpl.toolbar_items[toolbar_ind][1];\n",
       "        var image = mpl.toolbar_items[toolbar_ind][2];\n",
       "        var method_name = mpl.toolbar_items[toolbar_ind][3];\n",
       "\n",
       "        if (!name) {\n",
       "            // put a spacer in here.\n",
       "            continue;\n",
       "        }\n",
       "        var button = $('<button/>');\n",
       "        button.addClass('ui-button ui-widget ui-state-default ui-corner-all ' +\n",
       "                        'ui-button-icon-only');\n",
       "        button.attr('role', 'button');\n",
       "        button.attr('aria-disabled', 'false');\n",
       "        button.click(method_name, toolbar_event);\n",
       "        button.mouseover(tooltip, toolbar_mouse_event);\n",
       "\n",
       "        var icon_img = $('<span/>');\n",
       "        icon_img.addClass('ui-button-icon-primary ui-icon');\n",
       "        icon_img.addClass(image);\n",
       "        icon_img.addClass('ui-corner-all');\n",
       "\n",
       "        var tooltip_span = $('<span/>');\n",
       "        tooltip_span.addClass('ui-button-text');\n",
       "        tooltip_span.html(tooltip);\n",
       "\n",
       "        button.append(icon_img);\n",
       "        button.append(tooltip_span);\n",
       "\n",
       "        nav_element.append(button);\n",
       "    }\n",
       "\n",
       "    var fmt_picker_span = $('<span/>');\n",
       "\n",
       "    var fmt_picker = $('<select/>');\n",
       "    fmt_picker.addClass('mpl-toolbar-option ui-widget ui-widget-content');\n",
       "    fmt_picker_span.append(fmt_picker);\n",
       "    nav_element.append(fmt_picker_span);\n",
       "    this.format_dropdown = fmt_picker[0];\n",
       "\n",
       "    for (var ind in mpl.extensions) {\n",
       "        var fmt = mpl.extensions[ind];\n",
       "        var option = $(\n",
       "            '<option/>', {selected: fmt === mpl.default_extension}).html(fmt);\n",
       "        fmt_picker.append(option)\n",
       "    }\n",
       "\n",
       "    // Add hover states to the ui-buttons\n",
       "    $( \".ui-button\" ).hover(\n",
       "        function() { $(this).addClass(\"ui-state-hover\");},\n",
       "        function() { $(this).removeClass(\"ui-state-hover\");}\n",
       "    );\n",
       "\n",
       "    var status_bar = $('<span class=\"mpl-message\"/>');\n",
       "    nav_element.append(status_bar);\n",
       "    this.message = status_bar[0];\n",
       "}\n",
       "\n",
       "mpl.figure.prototype.request_resize = function(x_pixels, y_pixels) {\n",
       "    // Request matplotlib to resize the figure. Matplotlib will then trigger a resize in the client,\n",
       "    // which will in turn request a refresh of the image.\n",
       "    this.send_message('resize', {'width': x_pixels, 'height': y_pixels});\n",
       "}\n",
       "\n",
       "mpl.figure.prototype.send_message = function(type, properties) {\n",
       "    properties['type'] = type;\n",
       "    properties['figure_id'] = this.id;\n",
       "    this.ws.send(JSON.stringify(properties));\n",
       "}\n",
       "\n",
       "mpl.figure.prototype.send_draw_message = function() {\n",
       "    if (!this.waiting) {\n",
       "        this.waiting = true;\n",
       "        this.ws.send(JSON.stringify({type: \"draw\", figure_id: this.id}));\n",
       "    }\n",
       "}\n",
       "\n",
       "\n",
       "mpl.figure.prototype.handle_save = function(fig, msg) {\n",
       "    var format_dropdown = fig.format_dropdown;\n",
       "    var format = format_dropdown.options[format_dropdown.selectedIndex].value;\n",
       "    fig.ondownload(fig, format);\n",
       "}\n",
       "\n",
       "\n",
       "mpl.figure.prototype.handle_resize = function(fig, msg) {\n",
       "    var size = msg['size'];\n",
       "    if (size[0] != fig.canvas.width || size[1] != fig.canvas.height) {\n",
       "        fig._resize_canvas(size[0], size[1]);\n",
       "        fig.send_message(\"refresh\", {});\n",
       "    };\n",
       "}\n",
       "\n",
       "mpl.figure.prototype.handle_rubberband = function(fig, msg) {\n",
       "    var x0 = msg['x0'];\n",
       "    var y0 = fig.canvas.height - msg['y0'];\n",
       "    var x1 = msg['x1'];\n",
       "    var y1 = fig.canvas.height - msg['y1'];\n",
       "    x0 = Math.floor(x0) + 0.5;\n",
       "    y0 = Math.floor(y0) + 0.5;\n",
       "    x1 = Math.floor(x1) + 0.5;\n",
       "    y1 = Math.floor(y1) + 0.5;\n",
       "    var min_x = Math.min(x0, x1);\n",
       "    var min_y = Math.min(y0, y1);\n",
       "    var width = Math.abs(x1 - x0);\n",
       "    var height = Math.abs(y1 - y0);\n",
       "\n",
       "    fig.rubberband_context.clearRect(\n",
       "        0, 0, fig.canvas.width, fig.canvas.height);\n",
       "\n",
       "    fig.rubberband_context.strokeRect(min_x, min_y, width, height);\n",
       "}\n",
       "\n",
       "mpl.figure.prototype.handle_figure_label = function(fig, msg) {\n",
       "    // Updates the figure title.\n",
       "    fig.header.textContent = msg['label'];\n",
       "}\n",
       "\n",
       "mpl.figure.prototype.handle_cursor = function(fig, msg) {\n",
       "    var cursor = msg['cursor'];\n",
       "    switch(cursor)\n",
       "    {\n",
       "    case 0:\n",
       "        cursor = 'pointer';\n",
       "        break;\n",
       "    case 1:\n",
       "        cursor = 'default';\n",
       "        break;\n",
       "    case 2:\n",
       "        cursor = 'crosshair';\n",
       "        break;\n",
       "    case 3:\n",
       "        cursor = 'move';\n",
       "        break;\n",
       "    }\n",
       "    fig.rubberband_canvas.style.cursor = cursor;\n",
       "}\n",
       "\n",
       "mpl.figure.prototype.handle_message = function(fig, msg) {\n",
       "    fig.message.textContent = msg['message'];\n",
       "}\n",
       "\n",
       "mpl.figure.prototype.handle_draw = function(fig, msg) {\n",
       "    // Request the server to send over a new figure.\n",
       "    fig.send_draw_message();\n",
       "}\n",
       "\n",
       "mpl.figure.prototype.handle_image_mode = function(fig, msg) {\n",
       "    fig.image_mode = msg['mode'];\n",
       "}\n",
       "\n",
       "mpl.figure.prototype.updated_canvas_event = function() {\n",
       "    // Called whenever the canvas gets updated.\n",
       "    this.send_message(\"ack\", {});\n",
       "}\n",
       "\n",
       "// A function to construct a web socket function for onmessage handling.\n",
       "// Called in the figure constructor.\n",
       "mpl.figure.prototype._make_on_message_function = function(fig) {\n",
       "    return function socket_on_message(evt) {\n",
       "        if (evt.data instanceof Blob) {\n",
       "            /* FIXME: We get \"Resource interpreted as Image but\n",
       "             * transferred with MIME type text/plain:\" errors on\n",
       "             * Chrome.  But how to set the MIME type?  It doesn't seem\n",
       "             * to be part of the websocket stream */\n",
       "            evt.data.type = \"image/png\";\n",
       "\n",
       "            /* Free the memory for the previous frames */\n",
       "            if (fig.imageObj.src) {\n",
       "                (window.URL || window.webkitURL).revokeObjectURL(\n",
       "                    fig.imageObj.src);\n",
       "            }\n",
       "\n",
       "            fig.imageObj.src = (window.URL || window.webkitURL).createObjectURL(\n",
       "                evt.data);\n",
       "            fig.updated_canvas_event();\n",
       "            fig.waiting = false;\n",
       "            return;\n",
       "        }\n",
       "        else if (typeof evt.data === 'string' && evt.data.slice(0, 21) == \"data:image/png;base64\") {\n",
       "            fig.imageObj.src = evt.data;\n",
       "            fig.updated_canvas_event();\n",
       "            fig.waiting = false;\n",
       "            return;\n",
       "        }\n",
       "\n",
       "        var msg = JSON.parse(evt.data);\n",
       "        var msg_type = msg['type'];\n",
       "\n",
       "        // Call the  \"handle_{type}\" callback, which takes\n",
       "        // the figure and JSON message as its only arguments.\n",
       "        try {\n",
       "            var callback = fig[\"handle_\" + msg_type];\n",
       "        } catch (e) {\n",
       "            console.log(\"No handler for the '\" + msg_type + \"' message type: \", msg);\n",
       "            return;\n",
       "        }\n",
       "\n",
       "        if (callback) {\n",
       "            try {\n",
       "                // console.log(\"Handling '\" + msg_type + \"' message: \", msg);\n",
       "                callback(fig, msg);\n",
       "            } catch (e) {\n",
       "                console.log(\"Exception inside the 'handler_\" + msg_type + \"' callback:\", e, e.stack, msg);\n",
       "            }\n",
       "        }\n",
       "    };\n",
       "}\n",
       "\n",
       "// from http://stackoverflow.com/questions/1114465/getting-mouse-location-in-canvas\n",
       "mpl.findpos = function(e) {\n",
       "    //this section is from http://www.quirksmode.org/js/events_properties.html\n",
       "    var targ;\n",
       "    if (!e)\n",
       "        e = window.event;\n",
       "    if (e.target)\n",
       "        targ = e.target;\n",
       "    else if (e.srcElement)\n",
       "        targ = e.srcElement;\n",
       "    if (targ.nodeType == 3) // defeat Safari bug\n",
       "        targ = targ.parentNode;\n",
       "\n",
       "    // jQuery normalizes the pageX and pageY\n",
       "    // pageX,Y are the mouse positions relative to the document\n",
       "    // offset() returns the position of the element relative to the document\n",
       "    var x = e.pageX - $(targ).offset().left;\n",
       "    var y = e.pageY - $(targ).offset().top;\n",
       "\n",
       "    return {\"x\": x, \"y\": y};\n",
       "};\n",
       "\n",
       "/*\n",
       " * return a copy of an object with only non-object keys\n",
       " * we need this to avoid circular references\n",
       " * http://stackoverflow.com/a/24161582/3208463\n",
       " */\n",
       "function simpleKeys (original) {\n",
       "  return Object.keys(original).reduce(function (obj, key) {\n",
       "    if (typeof original[key] !== 'object')\n",
       "        obj[key] = original[key]\n",
       "    return obj;\n",
       "  }, {});\n",
       "}\n",
       "\n",
       "mpl.figure.prototype.mouse_event = function(event, name) {\n",
       "    var canvas_pos = mpl.findpos(event)\n",
       "\n",
       "    if (name === 'button_press')\n",
       "    {\n",
       "        this.canvas.focus();\n",
       "        this.canvas_div.focus();\n",
       "    }\n",
       "\n",
       "    var x = canvas_pos.x;\n",
       "    var y = canvas_pos.y;\n",
       "\n",
       "    this.send_message(name, {x: x, y: y, button: event.button,\n",
       "                             step: event.step,\n",
       "                             guiEvent: simpleKeys(event)});\n",
       "\n",
       "    /* This prevents the web browser from automatically changing to\n",
       "     * the text insertion cursor when the button is pressed.  We want\n",
       "     * to control all of the cursor setting manually through the\n",
       "     * 'cursor' event from matplotlib */\n",
       "    event.preventDefault();\n",
       "    return false;\n",
       "}\n",
       "\n",
       "mpl.figure.prototype._key_event_extra = function(event, name) {\n",
       "    // Handle any extra behaviour associated with a key event\n",
       "}\n",
       "\n",
       "mpl.figure.prototype.key_event = function(event, name) {\n",
       "\n",
       "    // Prevent repeat events\n",
       "    if (name == 'key_press')\n",
       "    {\n",
       "        if (event.which === this._key)\n",
       "            return;\n",
       "        else\n",
       "            this._key = event.which;\n",
       "    }\n",
       "    if (name == 'key_release')\n",
       "        this._key = null;\n",
       "\n",
       "    var value = '';\n",
       "    if (event.ctrlKey && event.which != 17)\n",
       "        value += \"ctrl+\";\n",
       "    if (event.altKey && event.which != 18)\n",
       "        value += \"alt+\";\n",
       "    if (event.shiftKey && event.which != 16)\n",
       "        value += \"shift+\";\n",
       "\n",
       "    value += 'k';\n",
       "    value += event.which.toString();\n",
       "\n",
       "    this._key_event_extra(event, name);\n",
       "\n",
       "    this.send_message(name, {key: value,\n",
       "                             guiEvent: simpleKeys(event)});\n",
       "    return false;\n",
       "}\n",
       "\n",
       "mpl.figure.prototype.toolbar_button_onclick = function(name) {\n",
       "    if (name == 'download') {\n",
       "        this.handle_save(this, null);\n",
       "    } else {\n",
       "        this.send_message(\"toolbar_button\", {name: name});\n",
       "    }\n",
       "};\n",
       "\n",
       "mpl.figure.prototype.toolbar_button_onmouseover = function(tooltip) {\n",
       "    this.message.textContent = tooltip;\n",
       "};\n",
       "mpl.toolbar_items = [[\"Home\", \"Reset original view\", \"fa fa-home icon-home\", \"home\"], [\"Back\", \"Back to  previous view\", \"fa fa-arrow-left icon-arrow-left\", \"back\"], [\"Forward\", \"Forward to next view\", \"fa fa-arrow-right icon-arrow-right\", \"forward\"], [\"\", \"\", \"\", \"\"], [\"Pan\", \"Pan axes with left mouse, zoom with right\", \"fa fa-arrows icon-move\", \"pan\"], [\"Zoom\", \"Zoom to rectangle\", \"fa fa-square-o icon-check-empty\", \"zoom\"], [\"\", \"\", \"\", \"\"], [\"Download\", \"Download plot\", \"fa fa-floppy-o icon-save\", \"download\"]];\n",
       "\n",
       "mpl.extensions = [\"eps\", \"jpeg\", \"pdf\", \"png\", \"ps\", \"raw\", \"svg\", \"tif\"];\n",
       "\n",
       "mpl.default_extension = \"png\";var comm_websocket_adapter = function(comm) {\n",
       "    // Create a \"websocket\"-like object which calls the given IPython comm\n",
       "    // object with the appropriate methods. Currently this is a non binary\n",
       "    // socket, so there is still some room for performance tuning.\n",
       "    var ws = {};\n",
       "\n",
       "    ws.close = function() {\n",
       "        comm.close()\n",
       "    };\n",
       "    ws.send = function(m) {\n",
       "        //console.log('sending', m);\n",
       "        comm.send(m);\n",
       "    };\n",
       "    // Register the callback with on_msg.\n",
       "    comm.on_msg(function(msg) {\n",
       "        //console.log('receiving', msg['content']['data'], msg);\n",
       "        // Pass the mpl event to the overriden (by mpl) onmessage function.\n",
       "        ws.onmessage(msg['content']['data'])\n",
       "    });\n",
       "    return ws;\n",
       "}\n",
       "\n",
       "mpl.mpl_figure_comm = function(comm, msg) {\n",
       "    // This is the function which gets called when the mpl process\n",
       "    // starts-up an IPython Comm through the \"matplotlib\" channel.\n",
       "\n",
       "    var id = msg.content.data.id;\n",
       "    // Get hold of the div created by the display call when the Comm\n",
       "    // socket was opened in Python.\n",
       "    var element = $(\"#\" + id);\n",
       "    var ws_proxy = comm_websocket_adapter(comm)\n",
       "\n",
       "    function ondownload(figure, format) {\n",
       "        window.open(figure.imageObj.src);\n",
       "    }\n",
       "\n",
       "    var fig = new mpl.figure(id, ws_proxy,\n",
       "                           ondownload,\n",
       "                           element.get(0));\n",
       "\n",
       "    // Call onopen now - mpl needs it, as it is assuming we've passed it a real\n",
       "    // web socket which is closed, not our websocket->open comm proxy.\n",
       "    ws_proxy.onopen();\n",
       "\n",
       "    fig.parent_element = element.get(0);\n",
       "    fig.cell_info = mpl.find_output_cell(\"<div id='\" + id + \"'></div>\");\n",
       "    if (!fig.cell_info) {\n",
       "        console.error(\"Failed to find cell for figure\", id, fig);\n",
       "        return;\n",
       "    }\n",
       "\n",
       "    var output_index = fig.cell_info[2]\n",
       "    var cell = fig.cell_info[0];\n",
       "\n",
       "};\n",
       "\n",
       "mpl.figure.prototype.handle_close = function(fig, msg) {\n",
       "    fig.root.unbind('remove')\n",
       "\n",
       "    // Update the output cell to use the data from the current canvas.\n",
       "    fig.push_to_output();\n",
       "    var dataURL = fig.canvas.toDataURL();\n",
       "    // Re-enable the keyboard manager in IPython - without this line, in FF,\n",
       "    // the notebook keyboard shortcuts fail.\n",
       "    IPython.keyboard_manager.enable()\n",
       "    $(fig.parent_element).html('<img src=\"' + dataURL + '\">');\n",
       "    fig.close_ws(fig, msg);\n",
       "}\n",
       "\n",
       "mpl.figure.prototype.close_ws = function(fig, msg){\n",
       "    fig.send_message('closing', msg);\n",
       "    // fig.ws.close()\n",
       "}\n",
       "\n",
       "mpl.figure.prototype.push_to_output = function(remove_interactive) {\n",
       "    // Turn the data on the canvas into data in the output cell.\n",
       "    var dataURL = this.canvas.toDataURL();\n",
       "    this.cell_info[1]['text/html'] = '<img src=\"' + dataURL + '\">';\n",
       "}\n",
       "\n",
       "mpl.figure.prototype.updated_canvas_event = function() {\n",
       "    // Tell IPython that the notebook contents must change.\n",
       "    IPython.notebook.set_dirty(true);\n",
       "    this.send_message(\"ack\", {});\n",
       "    var fig = this;\n",
       "    // Wait a second, then push the new image to the DOM so\n",
       "    // that it is saved nicely (might be nice to debounce this).\n",
       "    setTimeout(function () { fig.push_to_output() }, 1000);\n",
       "}\n",
       "\n",
       "mpl.figure.prototype._init_toolbar = function() {\n",
       "    var fig = this;\n",
       "\n",
       "    var nav_element = $('<div/>')\n",
       "    nav_element.attr('style', 'width: 100%');\n",
       "    this.root.append(nav_element);\n",
       "\n",
       "    // Define a callback function for later on.\n",
       "    function toolbar_event(event) {\n",
       "        return fig.toolbar_button_onclick(event['data']);\n",
       "    }\n",
       "    function toolbar_mouse_event(event) {\n",
       "        return fig.toolbar_button_onmouseover(event['data']);\n",
       "    }\n",
       "\n",
       "    for(var toolbar_ind in mpl.toolbar_items){\n",
       "        var name = mpl.toolbar_items[toolbar_ind][0];\n",
       "        var tooltip = mpl.toolbar_items[toolbar_ind][1];\n",
       "        var image = mpl.toolbar_items[toolbar_ind][2];\n",
       "        var method_name = mpl.toolbar_items[toolbar_ind][3];\n",
       "\n",
       "        if (!name) { continue; };\n",
       "\n",
       "        var button = $('<button class=\"btn btn-default\" href=\"#\" title=\"' + name + '\"><i class=\"fa ' + image + ' fa-lg\"></i></button>');\n",
       "        button.click(method_name, toolbar_event);\n",
       "        button.mouseover(tooltip, toolbar_mouse_event);\n",
       "        nav_element.append(button);\n",
       "    }\n",
       "\n",
       "    // Add the status bar.\n",
       "    var status_bar = $('<span class=\"mpl-message\" style=\"text-align:right; float: right;\"/>');\n",
       "    nav_element.append(status_bar);\n",
       "    this.message = status_bar[0];\n",
       "\n",
       "    // Add the close button to the window.\n",
       "    var buttongrp = $('<div class=\"btn-group inline pull-right\"></div>');\n",
       "    var button = $('<button class=\"btn btn-mini btn-primary\" href=\"#\" title=\"Stop Interaction\"><i class=\"fa fa-power-off icon-remove icon-large\"></i></button>');\n",
       "    button.click(function (evt) { fig.handle_close(fig, {}); } );\n",
       "    button.mouseover('Stop Interaction', toolbar_mouse_event);\n",
       "    buttongrp.append(button);\n",
       "    var titlebar = this.root.find($('.ui-dialog-titlebar'));\n",
       "    titlebar.prepend(buttongrp);\n",
       "}\n",
       "\n",
       "mpl.figure.prototype._root_extra_style = function(el){\n",
       "    var fig = this\n",
       "    el.on(\"remove\", function(){\n",
       "\tfig.close_ws(fig, {});\n",
       "    });\n",
       "}\n",
       "\n",
       "mpl.figure.prototype._canvas_extra_style = function(el){\n",
       "    // this is important to make the div 'focusable\n",
       "    el.attr('tabindex', 0)\n",
       "    // reach out to IPython and tell the keyboard manager to turn it's self\n",
       "    // off when our div gets focus\n",
       "\n",
       "    // location in version 3\n",
       "    if (IPython.notebook.keyboard_manager) {\n",
       "        IPython.notebook.keyboard_manager.register_events(el);\n",
       "    }\n",
       "    else {\n",
       "        // location in version 2\n",
       "        IPython.keyboard_manager.register_events(el);\n",
       "    }\n",
       "\n",
       "}\n",
       "\n",
       "mpl.figure.prototype._key_event_extra = function(event, name) {\n",
       "    var manager = IPython.notebook.keyboard_manager;\n",
       "    if (!manager)\n",
       "        manager = IPython.keyboard_manager;\n",
       "\n",
       "    // Check for shift+enter\n",
       "    if (event.shiftKey && event.which == 13) {\n",
       "        this.canvas_div.blur();\n",
       "        event.shiftKey = false;\n",
       "        // Send a \"J\" for go to next cell\n",
       "        event.which = 74;\n",
       "        event.keyCode = 74;\n",
       "        manager.command_mode();\n",
       "        manager.handle_keydown(event);\n",
       "    }\n",
       "}\n",
       "\n",
       "mpl.figure.prototype.handle_save = function(fig, msg) {\n",
       "    fig.ondownload(fig, null);\n",
       "}\n",
       "\n",
       "\n",
       "mpl.find_output_cell = function(html_output) {\n",
       "    // Return the cell and output element which can be found *uniquely* in the notebook.\n",
       "    // Note - this is a bit hacky, but it is done because the \"notebook_saving.Notebook\"\n",
       "    // IPython event is triggered only after the cells have been serialised, which for\n",
       "    // our purposes (turning an active figure into a static one), is too late.\n",
       "    var cells = IPython.notebook.get_cells();\n",
       "    var ncells = cells.length;\n",
       "    for (var i=0; i<ncells; i++) {\n",
       "        var cell = cells[i];\n",
       "        if (cell.cell_type === 'code'){\n",
       "            for (var j=0; j<cell.output_area.outputs.length; j++) {\n",
       "                var data = cell.output_area.outputs[j];\n",
       "                if (data.data) {\n",
       "                    // IPython >= 3 moved mimebundle to data attribute of output\n",
       "                    data = data.data;\n",
       "                }\n",
       "                if (data['text/html'] == html_output) {\n",
       "                    return [cell, data, j];\n",
       "                }\n",
       "            }\n",
       "        }\n",
       "    }\n",
       "}\n",
       "\n",
       "// Register the function which deals with the matplotlib target/channel.\n",
       "// The kernel may be null if the page has been refreshed.\n",
       "if (IPython.notebook.kernel != null) {\n",
       "    IPython.notebook.kernel.comm_manager.register_target('matplotlib', mpl.mpl_figure_comm);\n",
       "}\n"
      ],
      "text/plain": [
       "<IPython.core.display.Javascript object>"
      ]
     },
     "metadata": {},
     "output_type": "display_data"
    },
    {
     "data": {
      "text/html": [
       "<img src=\"data:image/png;base64,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\">"
      ],
      "text/plain": [
       "<IPython.core.display.HTML object>"
      ]
     },
     "metadata": {},
     "output_type": "display_data"
    },
    {
     "data": {
      "text/plain": [
       "<matplotlib.axes._subplots.AxesSubplot at 0x10e38bd30>"
      ]
     },
     "execution_count": 60,
     "metadata": {},
     "output_type": "execute_result"
    }
   ],
   "source": [
    "plt.clf()\n",
    "bv[['payout','p']].cumsum().plot()\n"
   ]
  },
  {
   "cell_type": "markdown",
   "metadata": {
    "deletable": true,
    "editable": true
   },
   "source": [
    "### Bonds: Valuation Conclusion\n",
    "Based on the Time Value of Money, then, we should be willing to pay $\\$1,000$ to receive five annual payments of $\\$50$ and a final payment of $\\$1,000$ after five years, assuming an interest rate of $5\\%$. When the bond valuation is equal to the face value, we say the bond is **“selling at _par_ value.”**\n",
    "\n",
    "### Exercise: Question the Assumptions\n",
    "\n",
    "What if the interest rate assumption was wrong? How does a higher rate impact the attractiveness of investing in this bond? What about a lower rate?\n",
    "\n",
    "Keeping everything else the same, change the interest rate, i, and re-analyze the valuation of the bond. At an interest rate of 7%, should you still buy it at a face value of $\\$1000$? \n",
    "\n",
    "What about a 4% interest rate?"
   ]
  },
  {
   "cell_type": "code",
   "execution_count": 62,
   "metadata": {
    "collapsed": false,
    "deletable": true,
    "editable": true
   },
   "outputs": [
    {
     "name": "stdout",
     "output_type": "stream",
     "text": [
      "0       0.000000\n",
      "1      48.076923\n",
      "2      94.304734\n",
      "3     138.754552\n",
      "4     181.494761\n",
      "5    1044.518223\n",
      "Name: p, dtype: float64\n"
     ]
    }
   ],
   "source": [
    "i = 0.04\n",
    "bv['pvif'] = [pow(1+i, -y) for y in bv['year']]     \n",
    "bv['p'] = bv['payout']*bv['pvif']\n",
    "print(bv['p'].cumsum())"
   ]
  },
  {
   "cell_type": "markdown",
   "metadata": {
    "deletable": true,
    "editable": true
   },
   "source": [
    "When the bond valuation is below the face value we say the bond is “selling at discount to par value.”\n",
    "\n",
    "When the bond valuation is below the face value we say the bond is “selling at premium to par value.”"
   ]
  },
  {
   "cell_type": "markdown",
   "metadata": {
    "deletable": true,
    "editable": true
   },
   "source": [
    "### A note about Interest Rates\n",
    "\n",
    "I keep using the term, “interest rate” and it appears to mean different things depending on the use. Unfortunately, there are many terms for the same concept. And there are many concepts that use the same name. \n",
    "- Back in our bond calculations, the market interest rate which was the denominator of our TVM analysis is also known as the “yield to maturity” (YTM) or simply “yield”.\n",
    "- People will also use the term “discount rate” or “discount factor” because we are discounting our future cash flows back to the present at this rate\n",
    "\n",
    "To make it even more confusing, there are many different interest rates in an economy\n",
    "- The interest rate the government is charged to borrow money is lower than the interest rate I am charged on my credit card\n",
    "- Companies with good investment opportunities and lots of cash have lower interest rates for their corporate debt than companies few growth opportunities and no cash.\n",
    "- Interest rates for the exact same security will change over time\n",
    "- Interest rates of identical securities with different times to maturity will be different\n",
    "- But in all these cases, the interest rate will increase when a given risk increases and decrease when a given risk decreases.\n",
    "\n",
    "\n",
    "The logic is simple:\n",
    "- In the face of multiple investment or lending opportunities, if we are not compensated for additional risk we will always put our money in the least risky opportunity.\n",
    "- We need to be induced to invest or lend to the riskier situation by the promise of higher returns.\n",
    "\n",
    "### The Fed. \n",
    "\n",
    "The growth of money, being tied to so closely to the market and to the rate at which banks can get loans, is strongly affected by the Federal Reserve. [Try being the Fed](http://sffed-education.org/chairthefed/). Can you keep us on an even keel?"
   ]
  },
  {
   "cell_type": "markdown",
   "metadata": {
    "deletable": true,
    "editable": true
   },
   "source": [
    "## Additional info on Bond pricing, rates paid by utilities to print, handle, etc.\n",
    "\n",
    "Bonds aren't sold out of thin air. Importantly, the price of the bond should also reflect the sometimes small, sometimes appreciable, expenditures required to print and manage the bond sales. Contemplate the impact of selling many small bonds vs. a few large bonds. How might this choice impact those expenditures?\n"
   ]
  },
  {
   "cell_type": "markdown",
   "metadata": {
    "collapsed": true,
    "deletable": true,
    "editable": true
   },
   "source": [
    "## Key Lessons\n",
    "\n",
    "We have covered the following key concepts in this notebook:\n",
    "\n",
    "- \\$x today is more valuable than \\$x tomorrow (time value of money)\n",
    "- The future value with simple interest is $F_{simple} =  P(1+iN)$\n",
    "- The future value with compounding interest is $F_{compound} = P(1+i)^N$\n",
    "- The principal P required to acheive a certain F is $P_{compound} = \\frac{F}{(1+i)^N}$\n",
    "- Inflation is a direct result of the time value of money and can be derived from $F_{simple}$\n",
    "- Inflation adjusted interest rate is $i^* = \\frac{(1+i)}{(1+r)} - 1$ where r is inflation rate, i is nominal interest rate.\n",
    "- $i_{MARR}$ is the lowest interest rate $i$ one is willing to get for investing their money, given known $F$ and $P$.\n",
    "- Amortized payments (like monthly car payments) make this whole thing much more complex.\n",
    "- Annuities are repeated payments, and compound annuities receive compounded interest.\n",
    "- The future value of a compound annuity in today's dollars is $FVA = PMT\\frac{(1+i)^n-1}{i}$\n",
    "- Solving for the payment can give an idea of the real value: $PMT = FVA\\frac{i}{(1+i)^n-1}$\n",
    "- The present value of a compound annuity in today's dollars is $PVA = PMT\\frac{1 - (1+i)^{-n}}{i}$\n",
    "- Solving for the payment can give an idea of obligations: $PMT = PVA\\frac{i}{1 - (1+i)^{-n}}$\n",
    "- The book's notation for payments for the present value of an annuity is : $\\frac{F}{N} = \\left[ \\frac{i(1+i)^n}{(1+i)^n - 1} \\right]P$ \n",
    "- With rearrangement, that is the same as: $\\frac{F}{N} = \\left[ \\frac{i}{1 - (1+i)^{-n}} \\right]P$.\n"
   ]
  },
  {
   "cell_type": "markdown",
   "metadata": {
    "deletable": true,
    "editable": true
   },
   "source": [
    "## Next Topic\n",
    "\n",
    "Over the next week, we'll be talking about :\n",
    "\n",
    "- The Levelized Cost of Electricity"
   ]
  },
  {
   "cell_type": "code",
   "execution_count": null,
   "metadata": {
    "collapsed": true,
    "deletable": true,
    "editable": true
   },
   "outputs": [],
   "source": []
  }
 ],
 "metadata": {
  "anaconda-cloud": {},
  "kernelspec": {
   "display_name": "Python 3",
   "language": "python",
   "name": "python3"
  },
  "language_info": {
   "codemirror_mode": {
    "name": "ipython",
    "version": 3
   },
   "file_extension": ".py",
   "mimetype": "text/x-python",
   "name": "python",
   "nbconvert_exporter": "python",
   "pygments_lexer": "ipython3",
   "version": "3.5.2"
  }
 },
 "nbformat": 4,
 "nbformat_minor": 0
}
